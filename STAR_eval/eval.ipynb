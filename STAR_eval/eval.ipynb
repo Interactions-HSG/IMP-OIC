{
 "cells": [
  {
   "cell_type": "code",
   "execution_count": 5,
   "metadata": {},
   "outputs": [
    {
     "name": "stderr",
     "output_type": "stream",
     "text": [
      "/Users/sanjivjha/anaconda3/lib/python3.8/site-packages/pandas/core/computation/expressions.py:20: UserWarning: Pandas requires version '2.7.3' or newer of 'numexpr' (version '2.7.1' currently installed).\n",
      "  from pandas.core.computation.check import NUMEXPR_INSTALLED\n"
     ]
    }
   ],
   "source": [
    "import json\n",
    "import pandas as pd\n",
    "import numpy as np\n"
   ]
  },
  {
   "cell_type": "code",
   "execution_count": 8,
   "metadata": {},
   "outputs": [
    {
     "name": "stdout",
     "output_type": "stream",
     "text": [
      "<class 'pandas.core.frame.DataFrame'>\n",
      "RangeIndex: 7098 entries, 0 to 7097\n",
      "Data columns (total 9 columns):\n",
      " #   Column            Non-Null Count  Dtype  \n",
      "---  ------            --------------  -----  \n",
      " 0   question_id       7098 non-null   object \n",
      " 1   question          7098 non-null   object \n",
      " 2   video_id          7098 non-null   object \n",
      " 3   start             7098 non-null   float64\n",
      " 4   end               7098 non-null   float64\n",
      " 5   answer            7098 non-null   object \n",
      " 6   question_program  7098 non-null   object \n",
      " 7   choices           7098 non-null   object \n",
      " 8   situations        7098 non-null   object \n",
      "dtypes: float64(2), object(7)\n",
      "memory usage: 499.2+ KB\n"
     ]
    }
   ],
   "source": [
    "QA_ds = pd.read_json('STAR_val.json')\n",
    "QA_ds.info()"
   ]
  },
  {
   "cell_type": "code",
   "execution_count": 24,
   "metadata": {},
   "outputs": [],
   "source": [
    "QA_ds_questions = QA_ds.loc[:, ['question_id','question','video_id','start','end','answer']]"
   ]
  },
  {
   "cell_type": "code",
   "execution_count": 44,
   "metadata": {},
   "outputs": [],
   "source": [
    "QA_ds_questions.groupby(['video_id','question_id','question','answer']).sum().to_csv('question_set.csv')"
   ]
  },
  {
   "cell_type": "code",
   "execution_count": null,
   "metadata": {},
   "outputs": [],
   "source": []
  }
 ],
 "metadata": {
  "kernelspec": {
   "display_name": "venv",
   "language": "python",
   "name": "python3"
  },
  "language_info": {
   "codemirror_mode": {
    "name": "ipython",
    "version": 3
   },
   "file_extension": ".py",
   "mimetype": "text/x-python",
   "name": "python",
   "nbconvert_exporter": "python",
   "pygments_lexer": "ipython3",
   "version": "3.8.5"
  },
  "orig_nbformat": 4
 },
 "nbformat": 4,
 "nbformat_minor": 2
}
