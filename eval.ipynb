{
 "cells": [
  {
   "cell_type": "code",
   "execution_count": 5,
   "metadata": {},
   "outputs": [],
   "source": [
    "#import json\n",
    "import pandas as pd\n",
    "#import numpy as np\n",
    "import sys\n",
    "import os\n",
    "import shutil\n",
    "sys.path.insert(0,'/Users/sanjivjha/IMP-OIC/')\n",
    "from utils.extractframes import FrameExtractor\n",
    "import graphene\n",
    "from STAR_eval.gpt_ask import run_gpt\n",
    "directory_path = '/Users/sanjivjha/Library/CloudStorage/OneDrive-UniversitätSt.Gallen/Charades'#'STAR_eval/Charades'\n"
   ]
  },
  {
   "cell_type": "code",
   "execution_count": 6,
   "metadata": {},
   "outputs": [],
   "source": [
    "QA_ds = pd.read_json('STAR_eval/STAR_val.json')\n",
    "#QA_ds.head()"
   ]
  },
  {
   "cell_type": "code",
   "execution_count": 8,
   "metadata": {},
   "outputs": [],
   "source": [
    "QA_ds_questions = QA_ds.loc[:, ['question_id','question','video_id','start','end','answer', 'choices']]"
   ]
  },
  {
   "cell_type": "code",
   "execution_count": 9,
   "metadata": {},
   "outputs": [],
   "source": [
    "QA = QA_ds_questions.groupby(['question_id','video_id']).sum().reset_index()#.to_csv('STAR_eval/question_set.csv')\n",
    "#QA.head()"
   ]
  },
  {
   "cell_type": "code",
   "execution_count": 11,
   "metadata": {},
   "outputs": [],
   "source": [
    "CLASSES = ['airplane', 'animal', 'arm', 'bag', 'banana', 'basket', 'beach', 'bear', 'bed', 'bench', 'bike',\n",
    "                'bird', 'board', 'boat', 'book', 'boot', 'bottle', 'bowl', 'box', 'boy', 'branch', 'building',\n",
    "                'bus', 'cabinet', 'cap', 'car', 'cat', 'chair', 'child', 'clock', 'coat', 'counter', 'cow', 'cup',\n",
    "                'curtain', 'desk', 'dog', 'door', 'drawer', 'ear', 'elephant', 'engine', 'eye', 'face', 'fence',\n",
    "                'finger', 'flag', 'flower', 'food', 'fork', 'fruit', 'giraffe', 'girl', 'glass', 'glove', 'guy',\n",
    "                'hair', 'hand', 'handle', 'hat', 'head', 'helmet', 'hill', 'horse', 'house', 'jacket', 'jean',\n",
    "                'kid', 'kite', 'lady', 'lamp', 'laptop', 'leaf', 'leg', 'letter', 'light', 'logo', 'man', 'men',\n",
    "                'motorcycle', 'mountain', 'mouth', 'neck', 'nose', 'number', 'orange', 'pant', 'paper', 'paw',\n",
    "                'people', 'person', 'phone', 'pillow', 'pizza', 'plane', 'plant', 'plate', 'player', 'pole', 'post',\n",
    "                'pot', 'racket', 'railing', 'rock', 'roof', 'room', 'screen', 'seat', 'sheep', 'shelf', 'shirt',\n",
    "                'shoe', 'short', 'sidewalk', 'sign', 'sink', 'skateboard', 'ski', 'skier', 'sneaker', 'snow',\n",
    "                'sock', 'stand', 'street', 'surfboard', 'table', 'tail', 'tie', 'tile', 'tire', 'toilet', 'towel',\n",
    "                'tower', 'track', 'train', 'tree', 'truck', 'trunk', 'umbrella', 'vase', 'vegetable', 'vehicle',\n",
    "                'wave', 'wheel', 'window', 'windshield', 'wing', 'wire', 'woman', 'zebra']\n",
    "\n",
    "REL_CLASSES = ['above', 'across', 'against', 'along', 'and', 'at', 'attached to', 'behind',\n",
    "                'belonging to', 'between', 'carrying', 'covered in', 'covering', 'eating', 'flying in', 'for',\n",
    "                'from', 'growing on', 'hanging from', 'has', 'holding', 'in', 'in front of', 'laying on',\n",
    "                'looking at', 'lying on', 'made of', 'mounted on', 'near', 'of', 'on', 'on back of', 'over',\n",
    "                'painted on', 'parked on', 'part of', 'playing', 'riding', 'says', 'sitting on', 'standing on',\n",
    "                'to', 'under', 'using', 'walking in', 'walking on', 'watching', 'wearing', 'wears', 'with']\n",
    "\n",
    "words = set(CLASSES+REL_CLASSES)\n"
   ]
  },
  {
   "cell_type": "code",
   "execution_count": 12,
   "metadata": {},
   "outputs": [
    {
     "name": "stdout",
     "output_type": "stream",
     "text": [
      "[0, 2, 3, 4, 9, 11, 12, 13, 15, 16, 17, 20, 24, 26, 37, 38, 39, 40, 41, 42, 43, 44, 45, 46, 48, 50, 52, 55, 57, 58, 60, 61, 62, 63, 70, 72, 77, 78, 80, 82, 83, 84, 86, 87, 89, 90, 91, 92, 93, 94, 124, 127, 135, 136, 150, 156, 159, 164, 166, 172, 173, 174, 175, 183, 184, 189, 190, 197, 198, 199, 201, 204, 205, 211, 217, 221, 223, 224, 227, 229, 232, 234, 247, 256, 265, 266, 273, 282, 283, 284, 292, 293, 296, 298, 306, 307, 314, 316, 317, 321, 327, 328, 329, 344, 353, 354, 365, 368, 371, 378, 380, 381, 387, 390, 391, 394, 401, 404, 408, 413, 414, 425, 428, 429, 435, 436, 437, 441, 444, 447, 451, 464, 468, 469, 481, 483, 488, 489, 490, 491, 492, 494, 499, 501, 502, 503, 504, 506, 508, 510, 513, 514, 515, 517, 518, 520, 521, 522, 523, 524, 526, 528, 530, 533, 534, 535, 539, 544, 546, 547, 548, 549, 550, 552, 553, 554, 555, 560, 565, 566, 568, 569, 572, 574, 580, 583, 585, 586, 587, 588, 590, 592, 594, 596, 597, 598, 599, 604, 606, 607, 608, 609, 610, 612, 613, 614, 615, 616, 617, 618, 619, 620, 624, 626, 627, 628, 630, 632, 633, 636, 637, 638, 639, 641, 642, 646, 654, 655, 659, 661, 664, 665, 668, 669, 670, 671, 675, 676, 677, 678, 679, 680, 681, 684, 686, 688, 689, 690, 691, 692, 693, 694, 695, 697, 698, 700, 701, 702, 704, 705, 706, 707, 710, 711, 717, 718, 719, 720, 722, 723, 725, 729, 730, 731, 733, 734, 736, 738, 739, 741, 742, 743, 744, 748, 749, 751, 753, 754, 756, 757, 758, 761, 762, 763, 764, 765, 766, 768, 772, 773, 774, 776, 777, 778, 781, 782, 785, 786, 787, 790, 791, 792, 794, 798, 799, 800, 801, 802, 803, 805, 809, 810, 812, 813, 824, 825, 826, 827, 828, 831, 833, 837, 839, 841, 843, 846, 847, 848, 851, 855, 856, 858, 865, 868, 869, 871, 873, 875, 881, 882, 884, 886, 887, 888, 890, 892, 895, 897, 898, 900, 903, 907, 908, 909, 911, 913, 915, 917, 918, 919, 921, 922, 923, 924, 925, 927, 928, 932, 933, 935, 938, 940, 942, 945, 946, 949, 950, 951, 952, 955, 957, 959, 960, 963, 964, 966, 974, 975, 976, 977, 978, 979, 981, 983, 985, 987, 995, 996, 997, 1001, 1003, 1005, 1009, 1010, 1011, 1013, 1014, 1015, 1016, 1018, 1019, 1020, 1022, 1023, 1024, 1025, 1026, 1027, 1029, 1031, 1032, 1033, 1034, 1036, 1039, 1041, 1042, 1043, 1045, 1046, 1047, 1048, 1051, 1054, 1058, 1060, 1061, 1062, 1067, 1069, 1070, 1073, 1074, 1077, 1080, 1081, 1082, 1083, 1086, 1091, 1096, 1100, 1101, 1103, 1107, 1108, 1110, 1113, 1115, 1117, 1118, 1119, 1120, 1121, 1122, 1125, 1128, 1129, 1131, 1133, 1137, 1138, 1139, 1142, 1147, 1149, 1151, 1152, 1153, 1155, 1156, 1158, 1159, 1160, 1163, 1166, 1167, 1168, 1169, 1170, 1171, 1173, 1175, 1176, 1178, 1182, 1184, 1187, 1191, 1192, 1193, 1198, 1201, 1202, 1204, 1207, 1213, 1215, 1219, 1220, 1226, 1227, 1228, 1230, 1234, 1235, 1242, 1243, 1245, 1247, 1250, 1252, 1253, 1254, 1256, 1257, 1258, 1260, 1262, 1263, 1264, 1265, 1266, 1270, 1271, 1272, 1277, 1279, 1281, 1282, 1284, 1285, 1286, 1287, 1294, 1296, 1301, 1302, 1305, 1308, 1312, 1313, 1318, 1321, 1322, 1323, 1328, 1329, 1332, 1333, 1335, 1345, 1348, 1352, 1353, 1357, 1360, 1364, 1366, 1367, 1369, 1371, 1374, 1375, 1377, 1378, 1379, 1380, 1390, 1391, 1392, 1394, 1395, 1396, 1397, 1400, 1401, 1402, 1403, 1406, 1409, 1410, 1411, 1412, 1416, 1418, 1421, 1423, 1424, 1425, 1426, 1427, 1429, 1430, 1431, 1433, 1434, 1436, 1438, 1440, 1443, 1446, 1447, 1448, 1450, 1452, 1453, 1454, 1455, 1456, 1459, 1460, 1464, 1465, 1466, 1467, 1468, 1472, 1473, 1475, 1478, 1480, 1484, 1486, 1487, 1491, 1492, 1494, 1496, 1497, 1498, 1499, 1500, 1504, 1507, 1509, 1514, 1516, 1517, 1518, 1519, 1522, 1523, 1524, 1525, 1529, 1530, 1531, 1532, 1533, 1534, 1535, 1536, 1537, 1538, 1541, 1542, 1543, 1544, 1546, 1554, 1555, 1558, 1561, 1562, 1566, 1567, 1573, 1574, 1575, 1577, 1578, 1579, 1582, 1587, 1589, 1590, 1592, 1595, 1596, 1599, 1600, 1601, 1602, 1603, 1604, 1606, 1607, 1609, 1610, 1615, 1616, 1619, 1620, 1621, 1626, 1628, 1630, 1637, 1642, 1645, 1646, 1647, 1652, 1654, 1655, 1656, 1657, 1658, 1660, 1663, 1668, 1669, 1670, 1674, 1676, 1678, 1682, 1684, 1685, 1687, 1688, 1691, 1692, 1693, 1694, 1695, 1696, 1698, 1700, 1701, 1702, 1703, 1704, 1705, 1707, 1708, 1709, 1710, 1711, 1712, 1714, 1715, 1716, 1718, 1720, 1721, 1722, 1727, 1729, 1730, 1734, 1735, 1736, 1737, 1738, 1742, 1743, 1745, 1747, 1748, 1749, 1754, 1755, 1756, 1757, 1758, 1759, 1760, 1765, 1768, 1769, 1770, 1771, 1774, 1778, 1780, 1786, 1789, 1791, 1792, 1795, 1799, 1800, 1801, 1802, 1803, 1810, 1811, 1816, 1818, 1822, 1823, 1824, 1827, 1828, 1832, 1833, 1834, 1835, 1836, 1837, 1841, 1845, 1847, 1848, 1849, 1850, 1851, 1853, 1856, 1862, 1866, 1872, 1877, 1878, 1879, 1880, 1882, 1883, 1886, 1889, 1890, 1892, 1893, 1895, 1900, 1905, 1909, 1913, 1914, 1917, 1918, 1919, 1920, 1923, 1927, 1930, 1931, 1932, 1938, 1940, 1941, 1942, 1944, 1945, 1946, 1947, 1948, 1951, 1953, 1954, 1955, 1956, 1958, 1960, 1962, 1963, 1965, 1967, 1968, 1969, 1971, 1975, 1976, 1978, 1982, 1983, 1984, 1985, 1986, 1987, 1990, 1992, 1997, 1999, 2000, 2001, 2002, 2007, 2009, 2010, 2012, 2017, 2018, 2020, 2024, 2025, 2026, 2028, 2029, 2030, 2032, 2034, 2035, 2036, 2037, 2038, 2040, 2044, 2047, 2048, 2050, 2051, 2052, 2053, 2056, 2065, 2068, 2069, 2070, 2071, 2075, 2079, 2081, 2082, 2083, 2085, 2087, 2089, 2091, 2093, 2094, 2102, 2103, 2104, 2105, 2106, 2107, 2109, 2111, 2115, 2116, 2117, 2118, 2119, 2123, 2125, 2126, 2127, 2128, 2132, 2133, 2134, 2135, 2136, 2140, 2141, 2145, 2150, 2152, 2156, 2157, 2158, 2159, 2164, 2165, 2167, 2170, 2171, 2174, 2175, 2177, 2179, 2186, 2190, 2191, 2193, 2194, 2195, 2197, 2200, 2201, 2202, 2203, 2204, 2205, 2207, 2209, 2210, 2212, 2213, 2217, 2218, 2219, 2221, 2222, 2224, 2225, 2226, 2227, 2228, 2230, 2231, 2232, 2233, 2234, 2261, 2263, 2268, 2270, 2282, 2289, 2302, 2303, 2320, 2329, 2338, 2356, 2361, 2364, 2384, 2390, 2402, 2404, 2409, 2410, 2411, 2422, 2437, 2452, 2455, 2459, 2463, 2472, 2499, 2502, 2519, 2535, 2540, 2553, 2567, 2604, 2609, 2654, 2659, 2672, 2681, 2682, 2731, 2746, 2747, 2765, 2802, 2803, 2811, 2835, 2836, 2843, 2847, 2871, 2888, 2890, 2891, 2897, 2902, 2910, 2912, 2914, 2915, 2917, 2921, 2922, 2924, 2925, 2928, 2930, 2932, 2935, 2936, 2939, 2943, 2944, 2945, 2948, 2949, 2952, 2954, 2955, 2964, 2965, 2970, 2971, 2976, 2977, 2979, 2980, 2981, 2983, 2984, 2985, 2987, 2989, 2990, 2995, 2997, 2999, 3002, 3003, 3004, 3006, 3008, 3010, 3011, 3012, 3015, 3017, 3019, 3021, 3022, 3023, 3026, 3031, 3032, 3034, 3035, 3036, 3038, 3040, 3041, 3042, 3045, 3046, 3047, 3048, 3049, 3050, 3051, 3053, 3055, 3056, 3057, 3058, 3061, 3063, 3067, 3069, 3070, 3072, 3073, 3077, 3078, 3079, 3080, 3081, 3082, 3094, 3095, 3096, 3099, 3100, 3106, 3107, 3111, 3113, 3114, 3115, 3117, 3121, 3122, 3125, 3128, 3129, 3130, 3131, 3132, 3133, 3134, 3135, 3138, 3144, 3145, 3146, 3147, 3150, 3154, 3156, 3157, 3159, 3162, 3164, 3165, 3166, 3168, 3169, 3170, 3174, 3176, 3177, 3179, 3180, 3183, 3185, 3186, 3190, 3196, 3198, 3199, 3202, 3204, 3205, 3206, 3209, 3211, 3212, 3214, 3215, 3218, 3219, 3222, 3223, 3226, 3230, 3232, 3234, 3235, 3238, 3239, 3248, 3249, 3251, 3252, 3256, 3257, 3258, 3260, 3261, 3264, 3265, 3269, 3271, 3273, 3275, 3276, 3278, 3279, 3281, 3283, 3285, 3286, 3291, 3293, 3295, 3296, 3297, 3298, 3304, 3308, 3310, 3312, 3314, 3315, 3316, 3317, 3318, 3319, 3320, 3322, 3324, 3325, 3326, 3327, 3329, 3331, 3333, 3341, 3350, 3353, 3359, 3365, 3375, 3380, 3381, 3390, 3391, 3397, 3398, 3399, 3404, 3410, 3415, 3416, 3417, 3418, 3428, 3435, 3436, 3441, 3445, 3448, 3455, 3456, 3457, 3464, 3467, 3472, 3473, 3477, 3478, 3480, 3483, 3490, 3499, 3505, 3508, 3513, 3516, 3524, 3528, 3529, 3531, 3533, 3545, 3546, 3550, 3558, 3563, 3565, 3566, 3574, 3576, 3578, 3579, 3582, 3584, 3587, 3593, 3600, 3603, 3604, 3606, 3608, 3615, 3619, 3620, 3625, 3629, 3638, 3645, 3653, 3661, 3665, 3669, 3673, 3676, 3677, 3684, 3685, 3688, 3691, 3694, 3695, 3696, 3700, 3701, 3704, 3705, 3706, 3727, 3729, 3730, 3733, 3734, 3735, 3736, 3740, 3742, 3747, 3748, 3750, 3751, 3752, 3758, 3763, 3770, 3775, 3779, 3783, 3792, 3793, 3796, 3797, 3812, 3813, 3818, 3821, 3822, 3831, 3834, 3845, 3847, 3854, 3857, 3863, 3865, 3868, 3872, 3878, 3883, 3884, 3890, 3892, 3895, 3898, 3906, 3919, 3921, 3928, 3929, 3931, 3932, 3934, 3941, 3944, 3946, 3951, 3952, 3953, 3954, 3962, 3963, 3964, 3965, 3966, 3967, 3970, 3973, 3978, 3980, 3982, 3992, 3993, 3996, 3997, 3998, 4017, 4020, 4026, 4027, 4028, 4036, 4037, 4045, 4046, 4048, 4051, 4057, 4064, 4065, 4071, 4072, 4073, 4074, 4075, 4080, 4088, 4093, 4095, 4097, 4098, 4101, 4102, 4110, 4113, 4115, 4136, 4138, 4146, 4148, 4151, 4155, 4156, 4161, 4163, 4164, 4171, 4172, 4182, 4186, 4188, 4191, 4197, 4210, 4215, 4218, 4229, 4232, 4243, 4246, 4254, 4258, 4261, 4265, 4268, 4269, 4272, 4275, 4281, 4289, 4290, 4295, 4296, 4301, 4305, 4312, 4313, 4327, 4334, 4335, 4336, 4338, 4346, 4348, 4350, 4352, 4353, 4356, 4360, 4363, 4365, 4366, 4369, 4371, 4374, 4382, 4386, 4392, 4393, 4399, 4404, 4415, 4417, 4421, 4422, 4425, 4427, 4428, 4429, 4431, 4436, 4437, 4438, 4440, 4443, 4448, 4455, 4457, 4460, 4461, 4464, 4465, 4466, 4467, 4468, 4475, 4476, 4477, 4482, 4491, 4495, 4498, 4500, 4501, 4505, 4518, 4524, 4531, 4539, 4547, 4550, 4552, 4553, 4565, 4568, 4569, 4572, 4573, 4576, 4584, 4587, 4588, 4590, 4602, 4609, 4613, 4614, 4622, 4624, 4629, 4630, 4631, 4634, 4637, 4638, 4658, 4661, 4667, 4669, 4672, 4676, 4677, 4678, 4680, 4682, 4683, 4685, 4686, 4687, 4692, 4697, 4698, 4708, 4713, 4717, 4723, 4732, 4734, 4735, 4740, 4741, 4746, 4747, 4755, 4762, 4765, 4768, 4775, 4780, 4786, 4789, 4792, 4811, 4813, 4821, 4828, 4839, 4841, 4845, 4852, 4853, 4868, 4873, 4874, 4882, 4891, 4894, 4898, 4904, 4908, 4913, 4914, 4917, 4925, 4930, 4931, 4935, 4939, 4940, 4942, 4944, 4946, 4954, 4959, 4960, 4963, 4965, 4969, 4971, 4975, 4976, 4981, 4986, 4997, 4998, 5003, 5016, 5019, 5029, 5032, 5036, 5039, 5051, 5055, 5056, 5061, 5062, 5065, 5073, 5078, 5082, 5084, 5088, 5093, 5094, 5102, 5103, 5107, 5108, 5117, 5119, 5120, 5125, 5129, 5135, 5138, 5142, 5143, 5148, 5150, 5156, 5158, 5159, 5160, 5162, 5163, 5167, 5169, 5170, 5179, 5185, 5187, 5192, 5199, 5201, 5205, 5209, 5210, 5217, 5218, 5224, 5227, 5232, 5235, 5236, 5239, 5242, 5243, 5248, 5252, 5256, 5261, 5266, 5270, 5279, 5282, 5284, 5285, 5287, 5288, 5296, 5297, 5299, 5306, 5311, 5312, 5317, 5322, 5323, 5335, 5341, 5354, 5355, 5357, 5361, 5364, 5371, 5372, 5388, 5389, 5391, 5398, 5406, 5425, 5427, 5431, 5432, 5434, 5436, 5441, 5443, 5444, 5451, 5454, 5459, 5461, 5466, 5472, 5477, 5481, 5482, 5489, 5501, 5503, 5507, 5517, 5519, 5522, 5543, 5552, 5553, 5559, 5561, 5565, 5570, 5576, 5577, 5578, 5582, 5586, 5587, 5590, 5591, 5594, 5603, 5608, 5610, 5615, 5616, 5622, 5649, 5651, 5653, 5656, 5660, 5664, 5671, 5678, 5679, 5685, 5690, 5694, 5702, 5706, 5711, 5715, 5716, 5717, 5718, 5724, 5725, 5726, 5727, 5728, 5732, 5736, 5739, 5744, 5748, 5752, 5753, 5754, 5755, 5756, 5758, 5759, 5763, 5766, 5778, 5780, 5794, 5796, 5801, 5803, 5807, 5812, 5816, 5824, 5838, 5844, 5845, 5849, 5857, 5863, 5865, 5869, 5871, 5872, 5873, 5876, 5877, 5879, 5881, 5882, 5884, 5886, 5887, 5892, 5894, 5896, 5900, 5901, 5902, 5903, 5904, 5905, 5907, 5916, 5920, 5923, 5925, 5933, 5939, 5941, 5946, 5947, 5948, 5949, 5962, 5966, 5973, 5978, 5982, 5987, 5992, 6000, 6004, 6009, 6011, 6012, 6014, 6015, 6018, 6020, 6024, 6026, 6030, 6037, 6039, 6046, 6051, 6053, 6068, 6073, 6074, 6076, 6077, 6079, 6080, 6102, 6104, 6106, 6111, 6119, 6121, 6125, 6126, 6127, 6131, 6143, 6150, 6156, 6170, 6172, 6202, 6218, 6222, 6248, 6250, 6259, 6268, 6277, 6285, 6290, 6298, 6300, 6303, 6308, 6312, 6314, 6315, 6326, 6327, 6328, 6329, 6342, 6344, 6354, 6363, 6376, 6387, 6397, 6405, 6407, 6424, 6428, 6432, 6435, 6439, 6444, 6445, 6448, 6452, 6458, 6459, 6463, 6465, 6478, 6479, 6499, 6501, 6506, 6507, 6508, 6513, 6516, 6519, 6532, 6545, 6548, 6568, 6569, 6571, 6573, 6577, 6578, 6580, 6583, 6588, 6597, 6619, 6631, 6634, 6643, 6646, 6647, 6648, 6649, 6655, 6657, 6660, 6666, 6684, 6691, 6694, 6700, 6706, 6713, 6716, 6717, 6723, 6727, 6736, 6738, 6739, 6740, 6742, 6743, 6753, 6760, 6770, 6773, 6774, 6776, 6782, 6785, 6787, 6789, 6796, 6799, 6800, 6807, 6823, 6826, 6836, 6855, 6857, 6866, 6876, 6879, 6881, 6887, 6888, 6893, 6897, 6899, 6900, 6903, 6907, 6913, 6931, 6935, 6937, 6939, 6942, 6946, 6947, 6950, 6951, 6971, 6976, 6979, 6985, 6986, 6991, 6995, 6997, 7008, 7009, 7010, 7015, 7034, 7035, 7037, 7044, 7053, 7054, 7071]\n",
      "<class 'pandas.core.frame.DataFrame'>\n",
      "Index: 4971 entries, 1 to 7097\n",
      "Data columns (total 7 columns):\n",
      " #   Column       Non-Null Count  Dtype  \n",
      "---  ------       --------------  -----  \n",
      " 0   question_id  4971 non-null   object \n",
      " 1   video_id     4971 non-null   object \n",
      " 2   question     4971 non-null   object \n",
      " 3   start        4971 non-null   float64\n",
      " 4   end          4971 non-null   float64\n",
      " 5   answer       4971 non-null   object \n",
      " 6   choices      4971 non-null   object \n",
      "dtypes: float64(2), object(5)\n",
      "memory usage: 310.7+ KB\n"
     ]
    }
   ],
   "source": [
    "import string\n",
    "index_list = []\n",
    "for q in QA.loc[:,'question_id'].values:\n",
    "    questions = QA.query(\"question_id=='\"+q+\"'\")['question']\n",
    "    choices = QA.query(\"question_id=='\"+q+\"'\")['choices']\n",
    "    list_choices = ''\n",
    "    for ch in choices:\n",
    "        for c in ch:\n",
    "            list_choices+=c['choice'].translate(str.maketrans('', '', string.punctuation))\n",
    "    count = 0\n",
    "    question = ''\n",
    "    for que in questions:\n",
    "        question += que.translate(str.maketrans('', '', string.punctuation))\n",
    "    \n",
    "    for i in words:\n",
    "        if i in (list((question.lower()).split(\" \"))+list((list_choices.lower()).split(\" \"))):\n",
    "            if i not in  ['a', 'is', 'man', 'woman', 'boy', 'girl', 'person','people','scene','frame','in','to','the', 'of', 'on','with', 'from', 'at', 'and']:\n",
    "                count+=1\n",
    "    if count == 0:\n",
    "        index_list.append(QA[QA['question_id']==q].index[0])\n",
    "\n",
    "print(index_list)  \n",
    "QA.drop(index_list, inplace = True)      \n",
    "QA.info()"
   ]
  },
  {
   "cell_type": "code",
   "execution_count": 18,
   "metadata": {},
   "outputs": [],
   "source": [
    "QA.to_csv('STAR_eval/question_set.csv')"
   ]
  },
  {
   "cell_type": "code",
   "execution_count": 22,
   "metadata": {},
   "outputs": [],
   "source": [
    "import ffmpeg\n",
    "\n",
    "def segment_video(input_path, output_path, start, end):\n",
    "    input_file = ffmpeg.input(directory_path+'/'+input_path+'.mp4')\n",
    "    duration = int(end-start)\n",
    "    output_file = ffmpeg.output(input_file.trim(start=start, duration = duration).filter('setpts','PTS-STARTPTS'), directory_path+'/trim/'+output_path+'.mp4')\n",
    "    ffmpeg.run(output_file)"
   ]
  },
  {
   "cell_type": "code",
   "execution_count": 20,
   "metadata": {},
   "outputs": [],
   "source": [
    "def run_oic(question_id, video_id, question, choices, start,end):\n",
    "    TEMP_DIR = \"temp\"\n",
    "    CAM_PATH = \"cam\"\n",
    "    OUT_DIR = \"out\"\n",
    "\n",
    "    if os.path.isdir(TEMP_DIR):\n",
    "        shutil.rmtree(TEMP_DIR) \n",
    "    \n",
    "    for video in os.scandir(directory_path):\n",
    "        if video.is_file():\n",
    "            if os.path.splitext(video.name)[0] == video_id:\n",
    "                print('processing {}'.format(video_id))\n",
    "                print(video_id, question, choices, start, end)\n",
    "                segment_video(os.path.splitext(video.name)[0],question_id+os.path.splitext(video.name)[0],start,end)\n",
    "                \n",
    "                ex = FrameExtractor(30, directory_path+'/trim/'+question_id+video.name)\n",
    "                ex.main()\n",
    "                g = graphene.Graphene(0.3, 0.6)\n",
    "\n",
    "                if not os.path.isdir(OUT_DIR):\n",
    "                    os.mkdir(OUT_DIR)\n",
    "                text = question_id+os.path.splitext(video.name)[0]+'graph2text.txt'\n",
    "                img_path = directory_path+'/trim/'+question_id+os.path.splitext(video.name)[0]+'-opencv'\n",
    "                #visual = question_id+os.path.splitext(video.name)[0]+'tg.png'\n",
    "                #g.run_online(text)\n",
    "\n",
    "                g.classify_images(img_path)\n",
    "                graph_path = TEMP_DIR\n",
    "                g.generate_temporal_graph_frames(graph_path, img_path)\n",
    "\n",
    "                #g.generate_temporal_graph(graph_path)\n",
    "\n",
    "                #g.tg.to_plot(os.path.join(OUT_DIR, visual))\n",
    "\n",
    "                g.tg.to_text(os.path.join(OUT_DIR,text))\n",
    "                \n",
    "                if os.path.isfile(OUT_DIR+'/'+text):\n",
    "                    with open(OUT_DIR+'/'+text) as f:\n",
    "                        context = f.readline()\n",
    "                        print(context)\n",
    "                    \n",
    "                        return run_gpt(context, question + choices)"
   ]
  },
  {
   "cell_type": "code",
   "execution_count": 24,
   "metadata": {},
   "outputs": [
    {
     "name": "stdout",
     "output_type": "stream",
     "text": [
      "processing SMVKB\n",
      "SMVKB What else is the person able to do with the door? Options: Close the door.Wash the door.Open the door.Take the door. 16.5 23.6\n"
     ]
    },
    {
     "name": "stderr",
     "output_type": "stream",
     "text": [
      "ffmpeg version 6.0 Copyright (c) 2000-2023 the FFmpeg developers\n",
      "  built with Apple clang version 14.0.3 (clang-1403.0.22.14.1)\n",
      "  configuration: --prefix=/usr/local/Cellar/ffmpeg/6.0 --enable-shared --enable-pthreads --enable-version3 --cc=clang --host-cflags= --host-ldflags= --enable-ffplay --enable-gnutls --enable-gpl --enable-libaom --enable-libaribb24 --enable-libbluray --enable-libdav1d --enable-libmp3lame --enable-libopus --enable-librav1e --enable-librist --enable-librubberband --enable-libsnappy --enable-libsrt --enable-libsvtav1 --enable-libtesseract --enable-libtheora --enable-libvidstab --enable-libvmaf --enable-libvorbis --enable-libvpx --enable-libwebp --enable-libx264 --enable-libx265 --enable-libxml2 --enable-libxvid --enable-lzma --enable-libfontconfig --enable-libfreetype --enable-frei0r --enable-libass --enable-libopencore-amrnb --enable-libopencore-amrwb --enable-libopenjpeg --enable-libspeex --enable-libsoxr --enable-libzmq --enable-libzimg --disable-libjack --disable-indev=jack --enable-videotoolbox --enable-audiotoolbox\n",
      "  libavutil      58.  2.100 / 58.  2.100\n",
      "  libavcodec     60.  3.100 / 60.  3.100\n",
      "  libavformat    60.  3.100 / 60.  3.100\n",
      "  libavdevice    60.  1.100 / 60.  1.100\n",
      "  libavfilter     9.  3.100 /  9.  3.100\n",
      "  libswscale      7.  1.100 /  7.  1.100\n",
      "  libswresample   4. 10.100 /  4. 10.100\n",
      "  libpostproc    57.  1.100 / 57.  1.100\n",
      "Input #0, mov,mp4,m4a,3gp,3g2,mj2, from '/Users/sanjivjha/Library/CloudStorage/OneDrive-UniversitätSt.Gallen/Charades/SMVKB.mp4':\n",
      "  Metadata:\n",
      "    major_brand     : isom\n",
      "    minor_version   : 512\n",
      "    compatible_brands: isomiso2avc1mp41\n",
      "    encoder         : Lavf56.40.101\n",
      "  Duration: 00:00:31.30, start: 0.000000, bitrate: 395 kb/s\n",
      "  Stream #0:0[0x1](und): Video: h264 (High) (avc1 / 0x31637661), yuv420p(progressive), 480x270 [SAR 1:1 DAR 16:9], 262 kb/s, 14.99 fps, 14.99 tbr, 15k tbn (default)\n",
      "    Metadata:\n",
      "      handler_name    : VideoHandler\n",
      "      vendor_id       : [0][0][0][0]\n",
      "  Stream #0:1[0x2](eng): Audio: aac (LC) (mp4a / 0x6134706D), 44100 Hz, stereo, fltp, 129 kb/s (default)\n",
      "    Metadata:\n",
      "      handler_name    : SoundHandler\n",
      "      vendor_id       : [0][0][0][0]\n",
      "File '/Users/sanjivjha/Library/CloudStorage/OneDrive-UniversitätSt.Gallen/Charades/trim/Feasibility_T2_1027SMVKB.mp4' already exists. Overwrite? [y/N] "
     ]
    },
    {
     "ename": "KeyboardInterrupt",
     "evalue": "",
     "output_type": "error",
     "traceback": [
      "\u001b[0;31m---------------------------------------------------------------------------\u001b[0m",
      "\u001b[0;31mKeyboardInterrupt\u001b[0m                         Traceback (most recent call last)",
      "Cell \u001b[0;32mIn[24], line 14\u001b[0m\n\u001b[1;32m     11\u001b[0m     \u001b[39mfor\u001b[39;00m c \u001b[39min\u001b[39;00m choice:\n\u001b[1;32m     12\u001b[0m         choices\u001b[39m+\u001b[39m\u001b[39m=\u001b[39mc[\u001b[39m'\u001b[39m\u001b[39mchoice\u001b[39m\u001b[39m'\u001b[39m]\n\u001b[0;32m---> 14\u001b[0m answer \u001b[39m=\u001b[39m run_oic(q, video_id, question, choices, start, end)\n\u001b[1;32m     15\u001b[0m QA\u001b[39m.\u001b[39mloc[QA[\u001b[39m'\u001b[39m\u001b[39mquestion_id\u001b[39m\u001b[39m'\u001b[39m] \u001b[39m==\u001b[39m q, \u001b[39m'\u001b[39m\u001b[39mOIC_answers\u001b[39m\u001b[39m'\u001b[39m] \u001b[39m=\u001b[39m \u001b[39mstr\u001b[39m(answer)\n\u001b[1;32m     16\u001b[0m \u001b[39mprint\u001b[39m(answer)\n",
      "Cell \u001b[0;32mIn[20], line 14\u001b[0m, in \u001b[0;36mrun_oic\u001b[0;34m(question_id, video_id, question, choices, start, end)\u001b[0m\n\u001b[1;32m     12\u001b[0m \u001b[39mprint\u001b[39m(\u001b[39m'\u001b[39m\u001b[39mprocessing \u001b[39m\u001b[39m{}\u001b[39;00m\u001b[39m'\u001b[39m\u001b[39m.\u001b[39mformat(video_id))\n\u001b[1;32m     13\u001b[0m \u001b[39mprint\u001b[39m(video_id, question, choices, start, end)\n\u001b[0;32m---> 14\u001b[0m segment_video(os\u001b[39m.\u001b[39;49mpath\u001b[39m.\u001b[39;49msplitext(video\u001b[39m.\u001b[39;49mname)[\u001b[39m0\u001b[39;49m],question_id\u001b[39m+\u001b[39;49mos\u001b[39m.\u001b[39;49mpath\u001b[39m.\u001b[39;49msplitext(video\u001b[39m.\u001b[39;49mname)[\u001b[39m0\u001b[39;49m],start,end)\n\u001b[1;32m     16\u001b[0m ex \u001b[39m=\u001b[39m FrameExtractor(\u001b[39m30\u001b[39m, directory_path\u001b[39m+\u001b[39m\u001b[39m'\u001b[39m\u001b[39m/trim/\u001b[39m\u001b[39m'\u001b[39m\u001b[39m+\u001b[39mquestion_id\u001b[39m+\u001b[39mvideo\u001b[39m.\u001b[39mname)\n\u001b[1;32m     17\u001b[0m ex\u001b[39m.\u001b[39mmain()\n",
      "Cell \u001b[0;32mIn[22], line 7\u001b[0m, in \u001b[0;36msegment_video\u001b[0;34m(input_path, output_path, start, end)\u001b[0m\n\u001b[1;32m      5\u001b[0m duration \u001b[39m=\u001b[39m \u001b[39mint\u001b[39m(end\u001b[39m-\u001b[39mstart)\n\u001b[1;32m      6\u001b[0m output_file \u001b[39m=\u001b[39m ffmpeg\u001b[39m.\u001b[39moutput(input_file\u001b[39m.\u001b[39mtrim(start\u001b[39m=\u001b[39mstart, duration \u001b[39m=\u001b[39m duration)\u001b[39m.\u001b[39mfilter(\u001b[39m'\u001b[39m\u001b[39msetpts\u001b[39m\u001b[39m'\u001b[39m,\u001b[39m'\u001b[39m\u001b[39mPTS-STARTPTS\u001b[39m\u001b[39m'\u001b[39m), directory_path\u001b[39m+\u001b[39m\u001b[39m'\u001b[39m\u001b[39m/trim/\u001b[39m\u001b[39m'\u001b[39m\u001b[39m+\u001b[39moutput_path\u001b[39m+\u001b[39m\u001b[39m'\u001b[39m\u001b[39m.mp4\u001b[39m\u001b[39m'\u001b[39m)\n\u001b[0;32m----> 7\u001b[0m ffmpeg\u001b[39m.\u001b[39;49mrun(output_file)\n",
      "File \u001b[0;32m~/IMP-OIC/venv/lib/python3.8/site-packages/ffmpeg/_run.py:322\u001b[0m, in \u001b[0;36mrun\u001b[0;34m(stream_spec, cmd, capture_stdout, capture_stderr, input, quiet, overwrite_output)\u001b[0m\n\u001b[1;32m    299\u001b[0m \u001b[39m\u001b[39m\u001b[39m\"\"\"Invoke ffmpeg for the supplied node graph.\u001b[39;00m\n\u001b[1;32m    300\u001b[0m \n\u001b[1;32m    301\u001b[0m \u001b[39mArgs:\u001b[39;00m\n\u001b[0;32m   (...)\u001b[0m\n\u001b[1;32m    311\u001b[0m \u001b[39mReturns: (out, err) tuple containing captured stdout and stderr data.\u001b[39;00m\n\u001b[1;32m    312\u001b[0m \u001b[39m\"\"\"\u001b[39;00m\n\u001b[1;32m    313\u001b[0m process \u001b[39m=\u001b[39m run_async(\n\u001b[1;32m    314\u001b[0m     stream_spec,\n\u001b[1;32m    315\u001b[0m     cmd,\n\u001b[0;32m   (...)\u001b[0m\n\u001b[1;32m    320\u001b[0m     overwrite_output\u001b[39m=\u001b[39moverwrite_output,\n\u001b[1;32m    321\u001b[0m )\n\u001b[0;32m--> 322\u001b[0m out, err \u001b[39m=\u001b[39m process\u001b[39m.\u001b[39;49mcommunicate(\u001b[39minput\u001b[39;49m)\n\u001b[1;32m    323\u001b[0m retcode \u001b[39m=\u001b[39m process\u001b[39m.\u001b[39mpoll()\n\u001b[1;32m    324\u001b[0m \u001b[39mif\u001b[39;00m retcode:\n",
      "File \u001b[0;32m/Library/Frameworks/Python.framework/Versions/3.8/lib/python3.8/subprocess.py:1020\u001b[0m, in \u001b[0;36mPopen.communicate\u001b[0;34m(self, input, timeout)\u001b[0m\n\u001b[1;32m   1018\u001b[0m         stderr \u001b[39m=\u001b[39m \u001b[39mself\u001b[39m\u001b[39m.\u001b[39mstderr\u001b[39m.\u001b[39mread()\n\u001b[1;32m   1019\u001b[0m         \u001b[39mself\u001b[39m\u001b[39m.\u001b[39mstderr\u001b[39m.\u001b[39mclose()\n\u001b[0;32m-> 1020\u001b[0m     \u001b[39mself\u001b[39;49m\u001b[39m.\u001b[39;49mwait()\n\u001b[1;32m   1021\u001b[0m \u001b[39melse\u001b[39;00m:\n\u001b[1;32m   1022\u001b[0m     \u001b[39mif\u001b[39;00m timeout \u001b[39mis\u001b[39;00m \u001b[39mnot\u001b[39;00m \u001b[39mNone\u001b[39;00m:\n",
      "File \u001b[0;32m/Library/Frameworks/Python.framework/Versions/3.8/lib/python3.8/subprocess.py:1083\u001b[0m, in \u001b[0;36mPopen.wait\u001b[0;34m(self, timeout)\u001b[0m\n\u001b[1;32m   1081\u001b[0m     endtime \u001b[39m=\u001b[39m _time() \u001b[39m+\u001b[39m timeout\n\u001b[1;32m   1082\u001b[0m \u001b[39mtry\u001b[39;00m:\n\u001b[0;32m-> 1083\u001b[0m     \u001b[39mreturn\u001b[39;00m \u001b[39mself\u001b[39;49m\u001b[39m.\u001b[39;49m_wait(timeout\u001b[39m=\u001b[39;49mtimeout)\n\u001b[1;32m   1084\u001b[0m \u001b[39mexcept\u001b[39;00m \u001b[39mKeyboardInterrupt\u001b[39;00m:\n\u001b[1;32m   1085\u001b[0m     \u001b[39m# https://bugs.python.org/issue25942\u001b[39;00m\n\u001b[1;32m   1086\u001b[0m     \u001b[39m# The first keyboard interrupt waits briefly for the child to\u001b[39;00m\n\u001b[1;32m   1087\u001b[0m     \u001b[39m# exit under the common assumption that it also received the ^C\u001b[39;00m\n\u001b[1;32m   1088\u001b[0m     \u001b[39m# generated SIGINT and will exit rapidly.\u001b[39;00m\n\u001b[1;32m   1089\u001b[0m     \u001b[39mif\u001b[39;00m timeout \u001b[39mis\u001b[39;00m \u001b[39mnot\u001b[39;00m \u001b[39mNone\u001b[39;00m:\n",
      "File \u001b[0;32m/Library/Frameworks/Python.framework/Versions/3.8/lib/python3.8/subprocess.py:1808\u001b[0m, in \u001b[0;36mPopen._wait\u001b[0;34m(self, timeout)\u001b[0m\n\u001b[1;32m   1806\u001b[0m \u001b[39mif\u001b[39;00m \u001b[39mself\u001b[39m\u001b[39m.\u001b[39mreturncode \u001b[39mis\u001b[39;00m \u001b[39mnot\u001b[39;00m \u001b[39mNone\u001b[39;00m:\n\u001b[1;32m   1807\u001b[0m     \u001b[39mbreak\u001b[39;00m  \u001b[39m# Another thread waited.\u001b[39;00m\n\u001b[0;32m-> 1808\u001b[0m (pid, sts) \u001b[39m=\u001b[39m \u001b[39mself\u001b[39;49m\u001b[39m.\u001b[39;49m_try_wait(\u001b[39m0\u001b[39;49m)\n\u001b[1;32m   1809\u001b[0m \u001b[39m# Check the pid and loop as waitpid has been known to\u001b[39;00m\n\u001b[1;32m   1810\u001b[0m \u001b[39m# return 0 even without WNOHANG in odd situations.\u001b[39;00m\n\u001b[1;32m   1811\u001b[0m \u001b[39m# http://bugs.python.org/issue14396.\u001b[39;00m\n\u001b[1;32m   1812\u001b[0m \u001b[39mif\u001b[39;00m pid \u001b[39m==\u001b[39m \u001b[39mself\u001b[39m\u001b[39m.\u001b[39mpid:\n",
      "File \u001b[0;32m/Library/Frameworks/Python.framework/Versions/3.8/lib/python3.8/subprocess.py:1766\u001b[0m, in \u001b[0;36mPopen._try_wait\u001b[0;34m(self, wait_flags)\u001b[0m\n\u001b[1;32m   1764\u001b[0m \u001b[39m\u001b[39m\u001b[39m\"\"\"All callers to this function MUST hold self._waitpid_lock.\"\"\"\u001b[39;00m\n\u001b[1;32m   1765\u001b[0m \u001b[39mtry\u001b[39;00m:\n\u001b[0;32m-> 1766\u001b[0m     (pid, sts) \u001b[39m=\u001b[39m os\u001b[39m.\u001b[39;49mwaitpid(\u001b[39mself\u001b[39;49m\u001b[39m.\u001b[39;49mpid, wait_flags)\n\u001b[1;32m   1767\u001b[0m \u001b[39mexcept\u001b[39;00m \u001b[39mChildProcessError\u001b[39;00m:\n\u001b[1;32m   1768\u001b[0m     \u001b[39m# This happens if SIGCLD is set to be ignored or waiting\u001b[39;00m\n\u001b[1;32m   1769\u001b[0m     \u001b[39m# for child processes has otherwise been disabled for our\u001b[39;00m\n\u001b[1;32m   1770\u001b[0m     \u001b[39m# process.  This child is dead, we can't get the status.\u001b[39;00m\n\u001b[1;32m   1771\u001b[0m     pid \u001b[39m=\u001b[39m \u001b[39mself\u001b[39m\u001b[39m.\u001b[39mpid\n",
      "\u001b[0;31mKeyboardInterrupt\u001b[0m: "
     ]
    }
   ],
   "source": [
    "q_ids = QA['question_id'].unique()\n",
    "\n",
    "for q in q_ids:\n",
    "    choices = 'Options: '\n",
    "    que = QA.query(\"question_id == '\"+q+\"'\")\n",
    "    video_id = que['video_id'].values[0]\n",
    "    question = que['question'].values[0]\n",
    "    start = que['start'].values[0]\n",
    "    end = que['end'].values[0]\n",
    "    for choice in que['choices']:\n",
    "        for c in choice:\n",
    "            choices+=c['choice']\n",
    "    \n",
    "    answer = run_oic(q, video_id, question, choices, start, end)\n",
    "    QA.loc[QA['question_id'] == q, 'OIC_answers'] = str(answer)\n",
    "    print(answer)\n",
    "    \n",
    "QA.to_csv('STAR_eval/question_answers.csv')\n",
    "    \n",
    "    "
   ]
  }
 ],
 "metadata": {
  "kernelspec": {
   "display_name": "venv",
   "language": "python",
   "name": "python3"
  },
  "language_info": {
   "codemirror_mode": {
    "name": "ipython",
    "version": 3
   },
   "file_extension": ".py",
   "mimetype": "text/x-python",
   "name": "python",
   "nbconvert_exporter": "python",
   "pygments_lexer": "ipython3",
   "version": "3.8.8"
  },
  "orig_nbformat": 4
 },
 "nbformat": 4,
 "nbformat_minor": 2
}
