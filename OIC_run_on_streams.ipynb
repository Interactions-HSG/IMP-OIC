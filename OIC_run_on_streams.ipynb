{
 "cells": [
  {
   "cell_type": "markdown",
   "metadata": {
    "colab": {
     "base_uri": "https://localhost:8080/"
    },
    "executionInfo": {
     "elapsed": 28127,
     "status": "ok",
     "timestamp": 1696326692570,
     "user": {
      "displayName": "Sanjiv Jha",
      "userId": "17144923705976415935"
     },
     "user_tz": -120
    },
    "id": "unklO5zSRdtv",
    "outputId": "f8ae2aee-f85f-4ab7-d295-1719e684b6d4"
   },
   "source": [
    "from google.colab import drive\n",
    "drive.mount('/content/drive')\n",
    "\n",
    "%pip install openai\n",
    "%pip install ffmpeg-python"
   ]
  },
  {
   "cell_type": "code",
   "execution_count": 4,
   "metadata": {
    "colab": {
     "base_uri": "https://localhost:8080/"
    },
    "executionInfo": {
     "elapsed": 5119,
     "status": "ok",
     "timestamp": 1696326706170,
     "user": {
      "displayName": "Sanjiv Jha",
      "userId": "17144923705976415935"
     },
     "user_tz": -120
    },
    "id": "PtYQqo4PRYBz",
    "outputId": "2aee5669-8b65-45b8-d31d-c96ae9988046",
    "ExecuteTime": {
     "end_time": "2023-11-22T17:11:19.987961Z",
     "start_time": "2023-11-22T17:11:19.977887Z"
    }
   },
   "outputs": [],
   "source": [
    "import os\n",
    "from utils.extractframes import FrameExtractor\n",
    "import graphene\n",
    "from gpt_ask import run_gpt\n",
    "directory_path = 'eval/quant'\n"
   ]
  },
  {
   "cell_type": "code",
   "execution_count": 5,
   "metadata": {
    "executionInfo": {
     "elapsed": 571,
     "status": "ok",
     "timestamp": 1696326711782,
     "user": {
      "displayName": "Sanjiv Jha",
      "userId": "17144923705976415935"
     },
     "user_tz": -120
    },
    "id": "jqnb_NNBRYCQ",
    "ExecuteTime": {
     "end_time": "2023-11-22T17:11:20.002907Z",
     "start_time": "2023-11-22T17:11:19.981649Z"
    }
   },
   "outputs": [],
   "source": [
    "import cv2\n",
    "import time\n",
    "def run_oic():\n",
    "    output_dir = \"out\"\n",
    "    \n",
    "    cap = cv2.VideoCapture()\n",
    "    cap.opne(\"https://interactions.ics.unisg.ch/61-102/cam1/live-stream\")\n",
    "    \n",
    "    \n",
    "    \n",
    "    for video in os.scandir(directory_path):\n",
    "            if video.is_file():\n",
    "                if not video.name.startswith('.'):\n",
    "                    ex = FrameExtractor(directory_path+'/'+video.name, 10, 5)\n",
    "                    ex.main()\n",
    "                    \n",
    "                    # instantiate graphene \"OIC core that runs RelTR\"  \n",
    "                    g = graphene.Graphene(alpha=0.3, min_assignment_conf=0.6)\n",
    "                    \n",
    "                    # check if the out directory exists else create one\n",
    "                    if not os.path.isdir(output_dir):\n",
    "                        os.mkdir(output_dir)\n",
    "                      \n",
    "                    # prepare output files \n",
    "                    text = os.path.splitext(video.name)[0]+'graph2text.txt'\n",
    "                    img_dir_path = directory_path+'/'+os.path.splitext(video.name)[0]+'-opencv'\n",
    "        \n",
    "                      \n",
    "                    # classify images from the image directory\n",
    "                    #g.classify_images(image_path=img_dir_path) # without windowing\n",
    "                    start_1 = time.time()\n",
    "                    g.classify_images_window(image_path=img_dir_path, window_size=5)\n",
    "                    print(\"Time for classification \"+time.strftime(\"%H:%M:%S\", time.gmtime(time.time()-start_1)))\n",
    "                    # generate relationship graph\n",
    "                    graph_dir_path = img_dir_path + \"/img/JSON\"\n",
    "                    \n",
    "                    start_2 = time.time()\n",
    "                    g.generate_temporal_graph_frames_no_plot(graph_dir_path, img_dir_path + \"/img\")\n",
    "                    print(\"Time for generating frame graph\"+time.strftime(\"%H:%M:%S\", time.gmtime(time.time()-start_2)))\n",
    "                    # save textual output in the out directory\n",
    "                    g.tg.to_text(os.path.join(output_dir, text))\n",
    "          \n",
    "                    if os.path.isfile(os.path.join(output_dir,text)):\n",
    "                        with open(os.path.join(output_dir,text)) as f:\n",
    "                            prompt_content = \"\".join(map(str, f.readlines()))\n",
    "                            return str(prompt_content)\n",
    "                    else:\n",
    "                        continue"
   ]
  },
  {
   "cell_type": "code",
   "execution_count": 6,
   "metadata": {
    "colab": {
     "base_uri": "https://localhost:8080/"
    },
    "id": "4mnI8yt9RYCR",
    "outputId": "ae4fc3af-fcc6-436a-b3c1-539df9effabc",
    "ExecuteTime": {
     "end_time": "2023-11-22T17:25:10.528782Z",
     "start_time": "2023-11-22T17:11:19.997803Z"
    }
   },
   "outputs": [
    {
     "name": "stderr",
     "output_type": "stream",
     "text": [
      "100%|██████████| 70/70 [13:49<00:00, 11.85s/it]\n",
      "100%|██████████| 70/70 [00:00<00:00, 6063.76it/s]\n"
     ]
    },
    {
     "name": "stdout",
     "output_type": "stream",
     "text": [
      "copying images and cleaning up temporary files:\n",
      "eval/quant/Interaction_T1_78OY3LS-opencv/frame0-00-00.18.jpg eval/quant/Interaction_T1_78OY3LS-opencv/img/frame0-00-00.18.jpg\n",
      "eval/quant/Interaction_T1_78OY3LS-opencv/frame0-00-00.73.jpg eval/quant/Interaction_T1_78OY3LS-opencv/img/frame0-00-00.73.jpg\n",
      "eval/quant/Interaction_T1_78OY3LS-opencv/frame0-00-01.18.jpg eval/quant/Interaction_T1_78OY3LS-opencv/img/frame0-00-01.18.jpg\n",
      "eval/quant/Interaction_T1_78OY3LS-opencv/frame0-00-01.73.jpg eval/quant/Interaction_T1_78OY3LS-opencv/img/frame0-00-01.73.jpg\n",
      "eval/quant/Interaction_T1_78OY3LS-opencv/frame0-00-02.18.jpg eval/quant/Interaction_T1_78OY3LS-opencv/img/frame0-00-02.18.jpg\n",
      "eval/quant/Interaction_T1_78OY3LS-opencv/frame0-00-02.73.jpg eval/quant/Interaction_T1_78OY3LS-opencv/img/frame0-00-02.73.jpg\n",
      "eval/quant/Interaction_T1_78OY3LS-opencv/frame0-00-03.18.jpg eval/quant/Interaction_T1_78OY3LS-opencv/img/frame0-00-03.18.jpg\n",
      "eval/quant/Interaction_T1_78OY3LS-opencv/frame0-00-03.73.jpg eval/quant/Interaction_T1_78OY3LS-opencv/img/frame0-00-03.73.jpg\n",
      "eval/quant/Interaction_T1_78OY3LS-opencv/frame0-00-04.18.jpg eval/quant/Interaction_T1_78OY3LS-opencv/img/frame0-00-04.18.jpg\n",
      "eval/quant/Interaction_T1_78OY3LS-opencv/frame0-00-04.73.jpg eval/quant/Interaction_T1_78OY3LS-opencv/img/frame0-00-04.73.jpg\n",
      "eval/quant/Interaction_T1_78OY3LS-opencv/frame0-00-05.18.jpg eval/quant/Interaction_T1_78OY3LS-opencv/img/frame0-00-05.18.jpg\n",
      "eval/quant/Interaction_T1_78OY3LS-opencv/frame0-00-05.73.jpg eval/quant/Interaction_T1_78OY3LS-opencv/img/frame0-00-05.73.jpg\n",
      "eval/quant/Interaction_T1_78OY3LS-opencv/frame0-00-06.18.jpg eval/quant/Interaction_T1_78OY3LS-opencv/img/frame0-00-06.18.jpg\n",
      "eval/quant/Interaction_T1_78OY3LS-opencv/frame0-00-06.73.jpg eval/quant/Interaction_T1_78OY3LS-opencv/img/frame0-00-06.73.jpg\n",
      "Time for classification 00:13:49\n",
      "Time for generating frame graph00:00:00\n",
      "Time for llm qa 00:00:00\n",
      "OIC answer: 3\n"
     ]
    }
   ],
   "source": [
    "if os.path.isdir(directory_path):\n",
    "  prompt = run_oic()\n",
    "  if prompt is not None:\n",
    "    choice_string = \"1. laptop, 2. refrigerator, 3. Door, 4. Bag\"\n",
    "    start_3 = time.time()\n",
    "    answer = run_gpt(prompt, 'What object was opened by the Person? Guess the most likely answer among these four options: '+choice_string+' Respond only with a single number between 1 and 4. Do not produce any other output.')\n",
    "    print(\"Time for llm qa \"+time.strftime(\"%H:%M:%S\", time.gmtime(time.time()-start_3)))\n",
    "    print('OIC answer: {}'.format(answer))\n",
    "  else:\n",
    "    print('OIC answer: {}'.format(None))\n",
    "      "
   ]
  },
  {
   "cell_type": "code",
   "execution_count": 7,
   "metadata": {
    "executionInfo": {
     "elapsed": 2552,
     "status": "ok",
     "timestamp": 1696326752736,
     "user": {
      "displayName": "Sanjiv Jha",
      "userId": "17144923705976415935"
     },
     "user_tz": -120
    },
    "id": "DZozUDrqaCeq",
    "ExecuteTime": {
     "end_time": "2023-11-22T17:25:10.652479Z",
     "start_time": "2023-11-22T17:25:10.535541Z"
    }
   },
   "outputs": [
    {
     "ename": "FileNotFoundError",
     "evalue": "[Errno 2] No such file or directory: 'eval/quant/car_out-opencv/'",
     "output_type": "error",
     "traceback": [
      "\u001B[0;31m---------------------------------------------------------------------------\u001B[0m",
      "\u001B[0;31mFileNotFoundError\u001B[0m                         Traceback (most recent call last)",
      "Cell \u001B[0;32mIn[7], line 3\u001B[0m\n\u001B[1;32m      1\u001B[0m \u001B[38;5;28;01mimport\u001B[39;00m \u001B[38;5;21;01mshutil\u001B[39;00m\n\u001B[0;32m----> 3\u001B[0m \u001B[43mshutil\u001B[49m\u001B[38;5;241;43m.\u001B[39;49m\u001B[43mrmtree\u001B[49m\u001B[43m(\u001B[49m\u001B[38;5;124;43m'\u001B[39;49m\u001B[38;5;124;43meval/quant/car_out-opencv/\u001B[39;49m\u001B[38;5;124;43m'\u001B[39;49m\u001B[43m)\u001B[49m\n",
      "File \u001B[0;32m~/anaconda3/lib/python3.8/shutil.py:706\u001B[0m, in \u001B[0;36mrmtree\u001B[0;34m(path, ignore_errors, onerror)\u001B[0m\n\u001B[1;32m    704\u001B[0m     orig_st \u001B[38;5;241m=\u001B[39m os\u001B[38;5;241m.\u001B[39mlstat(path)\n\u001B[1;32m    705\u001B[0m \u001B[38;5;28;01mexcept\u001B[39;00m \u001B[38;5;167;01mException\u001B[39;00m:\n\u001B[0;32m--> 706\u001B[0m     \u001B[43monerror\u001B[49m\u001B[43m(\u001B[49m\u001B[43mos\u001B[49m\u001B[38;5;241;43m.\u001B[39;49m\u001B[43mlstat\u001B[49m\u001B[43m,\u001B[49m\u001B[43m \u001B[49m\u001B[43mpath\u001B[49m\u001B[43m,\u001B[49m\u001B[43m \u001B[49m\u001B[43msys\u001B[49m\u001B[38;5;241;43m.\u001B[39;49m\u001B[43mexc_info\u001B[49m\u001B[43m(\u001B[49m\u001B[43m)\u001B[49m\u001B[43m)\u001B[49m\n\u001B[1;32m    707\u001B[0m     \u001B[38;5;28;01mreturn\u001B[39;00m\n\u001B[1;32m    708\u001B[0m \u001B[38;5;28;01mtry\u001B[39;00m:\n",
      "File \u001B[0;32m~/anaconda3/lib/python3.8/shutil.py:704\u001B[0m, in \u001B[0;36mrmtree\u001B[0;34m(path, ignore_errors, onerror)\u001B[0m\n\u001B[1;32m    701\u001B[0m \u001B[38;5;66;03m# Note: To guard against symlink races, we use the standard\u001B[39;00m\n\u001B[1;32m    702\u001B[0m \u001B[38;5;66;03m# lstat()/open()/fstat() trick.\u001B[39;00m\n\u001B[1;32m    703\u001B[0m \u001B[38;5;28;01mtry\u001B[39;00m:\n\u001B[0;32m--> 704\u001B[0m     orig_st \u001B[38;5;241m=\u001B[39m \u001B[43mos\u001B[49m\u001B[38;5;241;43m.\u001B[39;49m\u001B[43mlstat\u001B[49m\u001B[43m(\u001B[49m\u001B[43mpath\u001B[49m\u001B[43m)\u001B[49m\n\u001B[1;32m    705\u001B[0m \u001B[38;5;28;01mexcept\u001B[39;00m \u001B[38;5;167;01mException\u001B[39;00m:\n\u001B[1;32m    706\u001B[0m     onerror(os\u001B[38;5;241m.\u001B[39mlstat, path, sys\u001B[38;5;241m.\u001B[39mexc_info())\n",
      "\u001B[0;31mFileNotFoundError\u001B[0m: [Errno 2] No such file or directory: 'eval/quant/car_out-opencv/'"
     ]
    }
   ],
   "source": [
    "import shutil\n",
    "\n",
    "shutil.rmtree('eval/quant/car_out-opencv/')\n"
   ]
  },
  {
   "cell_type": "code",
   "execution_count": null,
   "metadata": {
    "executionInfo": {
     "elapsed": 208,
     "status": "ok",
     "timestamp": 1696326755391,
     "user": {
      "displayName": "Sanjiv Jha",
      "userId": "17144923705976415935"
     },
     "user_tz": -120
    },
    "id": "-I35WyH0az6w",
    "ExecuteTime": {
     "end_time": "2023-11-22T17:25:10.657527Z",
     "start_time": "2023-11-22T17:25:10.653777Z"
    }
   },
   "outputs": [],
   "source": [
    "import shutil\n",
    "\n",
    "shutil.rmtree('temp')\n"
   ]
  },
  {
   "cell_type": "code",
   "execution_count": 8,
   "metadata": {
    "colab": {
     "base_uri": "https://localhost:8080/"
    },
    "executionInfo": {
     "elapsed": 2101,
     "status": "ok",
     "timestamp": 1692102703607,
     "user": {
      "displayName": "Sanjiv Jha",
      "userId": "17144923705976415935"
     },
     "user_tz": -120
    },
    "id": "t2cf5-HHK-1Z",
    "outputId": "4b9f6624-5ae1-4be1-c56e-56354bd40f53",
    "ExecuteTime": {
     "end_time": "2023-11-22T17:48:51.095306Z",
     "start_time": "2023-11-22T17:48:50.200115Z"
    }
   },
   "outputs": [
    {
     "name": "stdout",
     "output_type": "stream",
     "text": [
      "time for for llm qa 00:00:00\n",
      "OIC answer: 3\n"
     ]
    }
   ],
   "source": [
    "import os\n",
    "import time\n",
    "from gpt_ask import run_gpt\n",
    "with open(os.path.join('/Users/sanjivjha/Developer/IMP-OIC/out/Interaction_T1_78OY3LSgraph2text.txt')) as f:\n",
    "      context = \"\".join(map(str,f.readlines()))\n",
    "\n",
    "      choice_string = \"1. laptop, 2. refrigerator, 3. Door, 4. Bag\"\n",
    "      start_3 = time.time()\n",
    "      answer = run_gpt(context, 'What object was opened by the Person? Guess the most likely answer among these four options: '+choice_string+' Respond only with a single number between 1 and 4. Do not produce any other output.')\n",
    "      print(\"time for for llm qa \"+time.strftime(\"%H:%M:%S\", time.gmtime(time.time()-start_3)))\n",
    "      if answer is not None:\n",
    "        print('OIC answer: {}'.format(answer))\n",
    "      else:\n",
    "        print('OIC answer: {}'.format(None))\n",
    "\n"
   ]
  },
  {
   "cell_type": "code",
   "execution_count": 3,
   "outputs": [
    {
     "name": "stdout",
     "output_type": "stream",
     "text": [
      "Collecting https://github.com/explosion/spacy-models/releases/download/en_core_web_sm-3.7.2/en_core_web_sm-3.7.2.tar.gz\r\n",
      "\u001B[31m  ERROR: HTTP error 404 while getting https://github.com/explosion/spacy-models/releases/download/en_core_web_sm-3.7.2/en_core_web_sm-3.7.2.tar.gz\u001B[0m\r\n",
      "\u001B[31mERROR: Could not install requirement https://github.com/explosion/spacy-models/releases/download/en_core_web_sm-3.7.2/en_core_web_sm-3.7.2.tar.gz because of HTTP error 404 Client Error: Not Found for url: https://github.com/explosion/spacy-models/releases/download/en_core_web_sm-3.7.2/en_core_web_sm-3.7.2.tar.gz for URL https://github.com/explosion/spacy-models/releases/download/en_core_web_sm-3.7.2/en_core_web_sm-3.7.2.tar.gz\u001B[0m\r\n",
      "Note: you may need to restart the kernel to use updated packages.\n"
     ]
    },
    {
     "ename": "OSError",
     "evalue": "[E053] Could not read config file from /Users/sanjivjha/anaconda3/lib/python3.8/site-packages/en_core_web_sm/en_core_web_sm-2.2.0/config.cfg",
     "output_type": "error",
     "traceback": [
      "\u001B[0;31m---------------------------------------------------------------------------\u001B[0m",
      "\u001B[0;31mOSError\u001B[0m                                   Traceback (most recent call last)",
      "Cell \u001B[0;32mIn[3], line 5\u001B[0m\n\u001B[1;32m      2\u001B[0m \u001B[38;5;28;01mimport\u001B[39;00m \u001B[38;5;21;01mspacy\u001B[39;00m\n\u001B[1;32m      4\u001B[0m \u001B[38;5;66;03m# Load the English language model in spaCy\u001B[39;00m\n\u001B[0;32m----> 5\u001B[0m nlp \u001B[38;5;241m=\u001B[39m \u001B[43mspacy\u001B[49m\u001B[38;5;241;43m.\u001B[39;49m\u001B[43mload\u001B[49m\u001B[43m(\u001B[49m\u001B[38;5;124;43m\"\u001B[39;49m\u001B[38;5;124;43men_core_web_sm\u001B[39;49m\u001B[38;5;124;43m\"\u001B[39;49m\u001B[43m)\u001B[49m\n\u001B[1;32m      7\u001B[0m \u001B[38;5;66;03m# Given words\u001B[39;00m\n\u001B[1;32m      8\u001B[0m words \u001B[38;5;241m=\u001B[39m [\u001B[38;5;124m\"\u001B[39m\u001B[38;5;124mThis\u001B[39m\u001B[38;5;124m\"\u001B[39m, \u001B[38;5;124m\"\u001B[39m\u001B[38;5;124mis\u001B[39m\u001B[38;5;124m\"\u001B[39m, \u001B[38;5;124m\"\u001B[39m\u001B[38;5;124man\u001B[39m\u001B[38;5;124m\"\u001B[39m, \u001B[38;5;124m\"\u001B[39m\u001B[38;5;124mexample\u001B[39m\u001B[38;5;124m\"\u001B[39m, \u001B[38;5;124m\"\u001B[39m\u001B[38;5;124msentence\u001B[39m\u001B[38;5;124m\"\u001B[39m]\n",
      "File \u001B[0;32m~/anaconda3/lib/python3.8/site-packages/spacy/__init__.py:51\u001B[0m, in \u001B[0;36mload\u001B[0;34m(name, vocab, disable, enable, exclude, config)\u001B[0m\n\u001B[1;32m     27\u001B[0m \u001B[38;5;28;01mdef\u001B[39;00m \u001B[38;5;21mload\u001B[39m(\n\u001B[1;32m     28\u001B[0m     name: Union[\u001B[38;5;28mstr\u001B[39m, Path],\n\u001B[1;32m     29\u001B[0m     \u001B[38;5;241m*\u001B[39m,\n\u001B[0;32m   (...)\u001B[0m\n\u001B[1;32m     34\u001B[0m     config: Union[Dict[\u001B[38;5;28mstr\u001B[39m, Any], Config] \u001B[38;5;241m=\u001B[39m util\u001B[38;5;241m.\u001B[39mSimpleFrozenDict(),\n\u001B[1;32m     35\u001B[0m ) \u001B[38;5;241m-\u001B[39m\u001B[38;5;241m>\u001B[39m Language:\n\u001B[1;32m     36\u001B[0m     \u001B[38;5;124;03m\"\"\"Load a spaCy model from an installed package or a local path.\u001B[39;00m\n\u001B[1;32m     37\u001B[0m \n\u001B[1;32m     38\u001B[0m \u001B[38;5;124;03m    name (str): Package name or model path.\u001B[39;00m\n\u001B[0;32m   (...)\u001B[0m\n\u001B[1;32m     49\u001B[0m \u001B[38;5;124;03m    RETURNS (Language): The loaded nlp object.\u001B[39;00m\n\u001B[1;32m     50\u001B[0m \u001B[38;5;124;03m    \"\"\"\u001B[39;00m\n\u001B[0;32m---> 51\u001B[0m     \u001B[38;5;28;01mreturn\u001B[39;00m \u001B[43mutil\u001B[49m\u001B[38;5;241;43m.\u001B[39;49m\u001B[43mload_model\u001B[49m\u001B[43m(\u001B[49m\n\u001B[1;32m     52\u001B[0m \u001B[43m        \u001B[49m\u001B[43mname\u001B[49m\u001B[43m,\u001B[49m\n\u001B[1;32m     53\u001B[0m \u001B[43m        \u001B[49m\u001B[43mvocab\u001B[49m\u001B[38;5;241;43m=\u001B[39;49m\u001B[43mvocab\u001B[49m\u001B[43m,\u001B[49m\n\u001B[1;32m     54\u001B[0m \u001B[43m        \u001B[49m\u001B[43mdisable\u001B[49m\u001B[38;5;241;43m=\u001B[39;49m\u001B[43mdisable\u001B[49m\u001B[43m,\u001B[49m\n\u001B[1;32m     55\u001B[0m \u001B[43m        \u001B[49m\u001B[43menable\u001B[49m\u001B[38;5;241;43m=\u001B[39;49m\u001B[43menable\u001B[49m\u001B[43m,\u001B[49m\n\u001B[1;32m     56\u001B[0m \u001B[43m        \u001B[49m\u001B[43mexclude\u001B[49m\u001B[38;5;241;43m=\u001B[39;49m\u001B[43mexclude\u001B[49m\u001B[43m,\u001B[49m\n\u001B[1;32m     57\u001B[0m \u001B[43m        \u001B[49m\u001B[43mconfig\u001B[49m\u001B[38;5;241;43m=\u001B[39;49m\u001B[43mconfig\u001B[49m\u001B[43m,\u001B[49m\n\u001B[1;32m     58\u001B[0m \u001B[43m    \u001B[49m\u001B[43m)\u001B[49m\n",
      "File \u001B[0;32m~/anaconda3/lib/python3.8/site-packages/spacy/util.py:465\u001B[0m, in \u001B[0;36mload_model\u001B[0;34m(name, vocab, disable, enable, exclude, config)\u001B[0m\n\u001B[1;32m    463\u001B[0m     \u001B[38;5;28;01mreturn\u001B[39;00m get_lang_class(name\u001B[38;5;241m.\u001B[39mreplace(\u001B[38;5;124m\"\u001B[39m\u001B[38;5;124mblank:\u001B[39m\u001B[38;5;124m\"\u001B[39m, \u001B[38;5;124m\"\u001B[39m\u001B[38;5;124m\"\u001B[39m))()\n\u001B[1;32m    464\u001B[0m \u001B[38;5;28;01mif\u001B[39;00m is_package(name):  \u001B[38;5;66;03m# installed as package\u001B[39;00m\n\u001B[0;32m--> 465\u001B[0m     \u001B[38;5;28;01mreturn\u001B[39;00m \u001B[43mload_model_from_package\u001B[49m\u001B[43m(\u001B[49m\u001B[43mname\u001B[49m\u001B[43m,\u001B[49m\u001B[43m \u001B[49m\u001B[38;5;241;43m*\u001B[39;49m\u001B[38;5;241;43m*\u001B[39;49m\u001B[43mkwargs\u001B[49m\u001B[43m)\u001B[49m  \u001B[38;5;66;03m# type: ignore[arg-type]\u001B[39;00m\n\u001B[1;32m    466\u001B[0m \u001B[38;5;28;01mif\u001B[39;00m Path(name)\u001B[38;5;241m.\u001B[39mexists():  \u001B[38;5;66;03m# path to model data directory\u001B[39;00m\n\u001B[1;32m    467\u001B[0m     \u001B[38;5;28;01mreturn\u001B[39;00m load_model_from_path(Path(name), \u001B[38;5;241m*\u001B[39m\u001B[38;5;241m*\u001B[39mkwargs)  \u001B[38;5;66;03m# type: ignore[arg-type]\u001B[39;00m\n",
      "File \u001B[0;32m~/anaconda3/lib/python3.8/site-packages/spacy/util.py:501\u001B[0m, in \u001B[0;36mload_model_from_package\u001B[0;34m(name, vocab, disable, enable, exclude, config)\u001B[0m\n\u001B[1;32m    484\u001B[0m \u001B[38;5;124;03m\"\"\"Load a model from an installed package.\u001B[39;00m\n\u001B[1;32m    485\u001B[0m \n\u001B[1;32m    486\u001B[0m \u001B[38;5;124;03mname (str): The package name.\u001B[39;00m\n\u001B[0;32m   (...)\u001B[0m\n\u001B[1;32m    498\u001B[0m \u001B[38;5;124;03mRETURNS (Language): The loaded nlp object.\u001B[39;00m\n\u001B[1;32m    499\u001B[0m \u001B[38;5;124;03m\"\"\"\u001B[39;00m\n\u001B[1;32m    500\u001B[0m \u001B[38;5;28mcls\u001B[39m \u001B[38;5;241m=\u001B[39m importlib\u001B[38;5;241m.\u001B[39mimport_module(name)\n\u001B[0;32m--> 501\u001B[0m \u001B[38;5;28;01mreturn\u001B[39;00m \u001B[38;5;28;43mcls\u001B[39;49m\u001B[38;5;241;43m.\u001B[39;49m\u001B[43mload\u001B[49m\u001B[43m(\u001B[49m\u001B[43mvocab\u001B[49m\u001B[38;5;241;43m=\u001B[39;49m\u001B[43mvocab\u001B[49m\u001B[43m,\u001B[49m\u001B[43m \u001B[49m\u001B[43mdisable\u001B[49m\u001B[38;5;241;43m=\u001B[39;49m\u001B[43mdisable\u001B[49m\u001B[43m,\u001B[49m\u001B[43m \u001B[49m\u001B[43menable\u001B[49m\u001B[38;5;241;43m=\u001B[39;49m\u001B[43menable\u001B[49m\u001B[43m,\u001B[49m\u001B[43m \u001B[49m\u001B[43mexclude\u001B[49m\u001B[38;5;241;43m=\u001B[39;49m\u001B[43mexclude\u001B[49m\u001B[43m,\u001B[49m\u001B[43m \u001B[49m\u001B[43mconfig\u001B[49m\u001B[38;5;241;43m=\u001B[39;49m\u001B[43mconfig\u001B[49m\u001B[43m)\u001B[49m\n",
      "File \u001B[0;32m~/anaconda3/lib/python3.8/site-packages/en_core_web_sm/__init__.py:12\u001B[0m, in \u001B[0;36mload\u001B[0;34m(**overrides)\u001B[0m\n\u001B[1;32m     11\u001B[0m \u001B[38;5;28;01mdef\u001B[39;00m \u001B[38;5;21mload\u001B[39m(\u001B[38;5;241m*\u001B[39m\u001B[38;5;241m*\u001B[39moverrides):\n\u001B[0;32m---> 12\u001B[0m     \u001B[38;5;28;01mreturn\u001B[39;00m \u001B[43mload_model_from_init_py\u001B[49m\u001B[43m(\u001B[49m\u001B[38;5;18;43m__file__\u001B[39;49m\u001B[43m,\u001B[49m\u001B[43m \u001B[49m\u001B[38;5;241;43m*\u001B[39;49m\u001B[38;5;241;43m*\u001B[39;49m\u001B[43moverrides\u001B[49m\u001B[43m)\u001B[49m\n",
      "File \u001B[0;32m~/anaconda3/lib/python3.8/site-packages/spacy/util.py:682\u001B[0m, in \u001B[0;36mload_model_from_init_py\u001B[0;34m(init_file, vocab, disable, enable, exclude, config)\u001B[0m\n\u001B[1;32m    680\u001B[0m \u001B[38;5;28;01mif\u001B[39;00m \u001B[38;5;129;01mnot\u001B[39;00m model_path\u001B[38;5;241m.\u001B[39mexists():\n\u001B[1;32m    681\u001B[0m     \u001B[38;5;28;01mraise\u001B[39;00m \u001B[38;5;167;01mIOError\u001B[39;00m(Errors\u001B[38;5;241m.\u001B[39mE052\u001B[38;5;241m.\u001B[39mformat(path\u001B[38;5;241m=\u001B[39mdata_path))\n\u001B[0;32m--> 682\u001B[0m \u001B[38;5;28;01mreturn\u001B[39;00m \u001B[43mload_model_from_path\u001B[49m\u001B[43m(\u001B[49m\n\u001B[1;32m    683\u001B[0m \u001B[43m    \u001B[49m\u001B[43mdata_path\u001B[49m\u001B[43m,\u001B[49m\n\u001B[1;32m    684\u001B[0m \u001B[43m    \u001B[49m\u001B[43mvocab\u001B[49m\u001B[38;5;241;43m=\u001B[39;49m\u001B[43mvocab\u001B[49m\u001B[43m,\u001B[49m\n\u001B[1;32m    685\u001B[0m \u001B[43m    \u001B[49m\u001B[43mmeta\u001B[49m\u001B[38;5;241;43m=\u001B[39;49m\u001B[43mmeta\u001B[49m\u001B[43m,\u001B[49m\n\u001B[1;32m    686\u001B[0m \u001B[43m    \u001B[49m\u001B[43mdisable\u001B[49m\u001B[38;5;241;43m=\u001B[39;49m\u001B[43mdisable\u001B[49m\u001B[43m,\u001B[49m\n\u001B[1;32m    687\u001B[0m \u001B[43m    \u001B[49m\u001B[43menable\u001B[49m\u001B[38;5;241;43m=\u001B[39;49m\u001B[43menable\u001B[49m\u001B[43m,\u001B[49m\n\u001B[1;32m    688\u001B[0m \u001B[43m    \u001B[49m\u001B[43mexclude\u001B[49m\u001B[38;5;241;43m=\u001B[39;49m\u001B[43mexclude\u001B[49m\u001B[43m,\u001B[49m\n\u001B[1;32m    689\u001B[0m \u001B[43m    \u001B[49m\u001B[43mconfig\u001B[49m\u001B[38;5;241;43m=\u001B[39;49m\u001B[43mconfig\u001B[49m\u001B[43m,\u001B[49m\n\u001B[1;32m    690\u001B[0m \u001B[43m\u001B[49m\u001B[43m)\u001B[49m\n",
      "File \u001B[0;32m~/anaconda3/lib/python3.8/site-packages/spacy/util.py:538\u001B[0m, in \u001B[0;36mload_model_from_path\u001B[0;34m(model_path, meta, vocab, disable, enable, exclude, config)\u001B[0m\n\u001B[1;32m    536\u001B[0m config_path \u001B[38;5;241m=\u001B[39m model_path \u001B[38;5;241m/\u001B[39m \u001B[38;5;124m\"\u001B[39m\u001B[38;5;124mconfig.cfg\u001B[39m\u001B[38;5;124m\"\u001B[39m\n\u001B[1;32m    537\u001B[0m overrides \u001B[38;5;241m=\u001B[39m dict_to_dot(config, for_overrides\u001B[38;5;241m=\u001B[39m\u001B[38;5;28;01mTrue\u001B[39;00m)\n\u001B[0;32m--> 538\u001B[0m config \u001B[38;5;241m=\u001B[39m \u001B[43mload_config\u001B[49m\u001B[43m(\u001B[49m\u001B[43mconfig_path\u001B[49m\u001B[43m,\u001B[49m\u001B[43m \u001B[49m\u001B[43moverrides\u001B[49m\u001B[38;5;241;43m=\u001B[39;49m\u001B[43moverrides\u001B[49m\u001B[43m)\u001B[49m\n\u001B[1;32m    539\u001B[0m nlp \u001B[38;5;241m=\u001B[39m load_model_from_config(\n\u001B[1;32m    540\u001B[0m     config,\n\u001B[1;32m    541\u001B[0m     vocab\u001B[38;5;241m=\u001B[39mvocab,\n\u001B[0;32m   (...)\u001B[0m\n\u001B[1;32m    545\u001B[0m     meta\u001B[38;5;241m=\u001B[39mmeta,\n\u001B[1;32m    546\u001B[0m )\n\u001B[1;32m    547\u001B[0m \u001B[38;5;28;01mreturn\u001B[39;00m nlp\u001B[38;5;241m.\u001B[39mfrom_disk(model_path, exclude\u001B[38;5;241m=\u001B[39mexclude, overrides\u001B[38;5;241m=\u001B[39moverrides)\n",
      "File \u001B[0;32m~/anaconda3/lib/python3.8/site-packages/spacy/util.py:714\u001B[0m, in \u001B[0;36mload_config\u001B[0;34m(path, overrides, interpolate)\u001B[0m\n\u001B[1;32m    712\u001B[0m \u001B[38;5;28;01melse\u001B[39;00m:\n\u001B[1;32m    713\u001B[0m     \u001B[38;5;28;01mif\u001B[39;00m \u001B[38;5;129;01mnot\u001B[39;00m config_path \u001B[38;5;129;01mor\u001B[39;00m \u001B[38;5;129;01mnot\u001B[39;00m config_path\u001B[38;5;241m.\u001B[39mis_file():\n\u001B[0;32m--> 714\u001B[0m         \u001B[38;5;28;01mraise\u001B[39;00m \u001B[38;5;167;01mIOError\u001B[39;00m(Errors\u001B[38;5;241m.\u001B[39mE053\u001B[38;5;241m.\u001B[39mformat(path\u001B[38;5;241m=\u001B[39mconfig_path, name\u001B[38;5;241m=\u001B[39m\u001B[38;5;124m\"\u001B[39m\u001B[38;5;124mconfig file\u001B[39m\u001B[38;5;124m\"\u001B[39m))\n\u001B[1;32m    715\u001B[0m     \u001B[38;5;28;01mreturn\u001B[39;00m config\u001B[38;5;241m.\u001B[39mfrom_disk(\n\u001B[1;32m    716\u001B[0m         config_path, overrides\u001B[38;5;241m=\u001B[39moverrides, interpolate\u001B[38;5;241m=\u001B[39minterpolate\n\u001B[1;32m    717\u001B[0m     )\n",
      "\u001B[0;31mOSError\u001B[0m: [E053] Could not read config file from /Users/sanjivjha/anaconda3/lib/python3.8/site-packages/en_core_web_sm/en_core_web_sm-2.2.0/config.cfg"
     ]
    }
   ],
   "source": [
    "import spacy\n",
    "\n",
    "# Load the English language model in spaCy\n",
    "nlp = spacy.load(\"en_core_web_sm\")\n",
    "\n",
    "# Given words\n",
    "words = [\"This\", \"is\", \"an\", \"example\", \"sentence\"]\n",
    "\n",
    "# Join the words to form a sentence\n",
    "sentence = ' '.join(words)\n",
    "\n",
    "# Parse the sentence using spaCy\n",
    "parsed_sentence = nlp(sentence)\n",
    "\n",
    "# Get the text representation of the parsed sentence\n",
    "processed_sentence = parsed_sentence.text\n",
    "\n",
    "print(processed_sentence)"
   ],
   "metadata": {
    "collapsed": false,
    "ExecuteTime": {
     "end_time": "2023-11-23T18:14:57.309669Z",
     "start_time": "2023-11-23T18:14:56.142743Z"
    }
   }
  },
  {
   "cell_type": "code",
   "execution_count": null,
   "outputs": [],
   "source": [],
   "metadata": {
    "collapsed": false
   }
  }
 ],
 "metadata": {
  "accelerator": "GPU",
  "colab": {
   "machine_shape": "hm",
   "provenance": []
  },
  "kernelspec": {
   "name": "python3",
   "language": "python",
   "display_name": "Python 3"
  },
  "language_info": {
   "codemirror_mode": {
    "name": "ipython",
    "version": 3
   },
   "file_extension": ".py",
   "mimetype": "text/x-python",
   "name": "python",
   "nbconvert_exporter": "python",
   "pygments_lexer": "ipython3",
   "version": "3.8.5"
  }
 },
 "nbformat": 4,
 "nbformat_minor": 0
}
