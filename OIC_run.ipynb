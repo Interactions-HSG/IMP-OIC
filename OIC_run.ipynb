{
 "cells": [
  {
   "cell_type": "code",
   "execution_count": 1,
   "metadata": {
    "colab": {
     "base_uri": "https://localhost:8080/"
    },
    "executionInfo": {
     "elapsed": 5119,
     "status": "ok",
     "timestamp": 1696326706170,
     "user": {
      "displayName": "Sanjiv Jha",
      "userId": "17144923705976415935"
     },
     "user_tz": -120
    },
    "id": "PtYQqo4PRYBz",
    "outputId": "2aee5669-8b65-45b8-d31d-c96ae9988046",
    "ExecuteTime": {
     "end_time": "2024-11-10T22:30:28.890936Z",
     "start_time": "2024-11-10T22:30:27.976431Z"
    }
   },
   "outputs": [],
   "source": [
    "import os\n",
    "from utilities.extractframes import FrameExtractor\n",
    "import graphene_demo \n",
    "import graphene_demo_yolo \n",
    "from llama_ask import run_llama\n",
    "directory_path = 'eval/quant'\n"
   ]
  },
  {
   "cell_type": "code",
   "execution_count": 6,
   "metadata": {
    "executionInfo": {
     "elapsed": 571,
     "status": "ok",
     "timestamp": 1696326711782,
     "user": {
      "displayName": "Sanjiv Jha",
      "userId": "17144923705976415935"
     },
     "user_tz": -120
    },
    "id": "jqnb_NNBRYCQ",
    "ExecuteTime": {
     "end_time": "2024-11-10T20:43:55.794865Z",
     "start_time": "2024-11-10T20:43:55.792301Z"
    }
   },
   "outputs": [],
   "source": [
    "def run_oic():\n",
    "    output_dir = \"out\"\n",
    "    fps = 2\n",
    "    window_size = 2\n",
    "    for video in os.scandir(directory_path):\n",
    "        if video.is_file():\n",
    "            if not video.name.startswith('.'):\n",
    "                ex = FrameExtractor(directory_path+'/'+video.name, fps_to_save=fps, window_size=window_size)\n",
    "                fps_to_save = ex.main()\n",
    "                \n",
    "                # instantiate graphene \"OIC core that runs RelTR\"  \n",
    "                g = graphene_demo.Graphene(alpha=0.7, min_assignment_conf=0.3)\n",
    "                \n",
    "                # check if the out directory exists else create one\n",
    "                if not os.path.isdir(output_dir):\n",
    "                    os.mkdir(output_dir)\n",
    "                  \n",
    "                # prepare output files \n",
    "                text = os.path.splitext(video.name)[0]+'graph2text.txt'\n",
    "                img_dir_path = directory_path+'/'+os.path.splitext(video.name)[0]+'-opencv'\n",
    "    \n",
    "                  \n",
    "                # classify images from the image directory\n",
    "                # g.classify_images(image_path=img_dir_path) # without windowing\n",
    "                \n",
    "                g.classify_images_window(image_path=img_dir_path, fps_to_save=fps_to_save, window_size=window_size)\n",
    "                \n",
    "                # generate relationship graph\n",
    "                graph_dir_path = img_dir_path + \"/img/JSON\"\n",
    "                \n",
    "                g.generate_temporal_graph_frames(graph_dir_path, img_dir_path + \"/img\")\n",
    "                \n",
    "                # save textual output in the out directory\n",
    "                g.tg.to_text(os.path.join(output_dir, text), fps_to_save=fps_to_save, window_size=window_size)\n",
    "      \n",
    "                if os.path.isfile(os.path.join(output_dir,text)):\n",
    "                    with open(os.path.join(output_dir,text)) as f:\n",
    "                        prompt_content = \"\".join(map(str, f.readlines()))\n",
    "                        return str(prompt_content)\n",
    "                else:\n",
    "                    continue\n",
    "                       "
   ]
  },
  {
   "cell_type": "code",
   "execution_count": 2,
   "outputs": [],
   "source": [
    "def run_yolo():\n",
    "    output_dir = \"out\"\n",
    "    fps = 2\n",
    "    window_size = 2\n",
    "    for video in os.scandir(directory_path):\n",
    "        if video.is_file():\n",
    "            if not video.name.startswith('.'):\n",
    "                ex = FrameExtractor(directory_path+'/'+video.name, fps_to_save=fps, window_size=window_size)\n",
    "                fps_to_save = ex.main()\n",
    "                \n",
    "                # instantiate graphene \"OIC core that runs yolo with alpha=0 making relationships count 0 and 1 on spatial similarity\"  \n",
    "                g = graphene_demo_yolo.Graphene(alpha=0, min_assignment_conf=0.6)\n",
    "                \n",
    "                # check if the out directory exists else create one\n",
    "                if not os.path.isdir(output_dir):\n",
    "                    os.mkdir(output_dir)\n",
    "                  \n",
    "                # prepare output files \n",
    "                text = os.path.splitext(video.name)[0]+'graph2text.txt'\n",
    "                img_dir_path = directory_path+'/'+os.path.splitext(video.name)[0]+'-opencv'\n",
    "    \n",
    "                  \n",
    "                # classify images from the image directory\n",
    "                #g.classify_images(image_path=img_dir_path) # without windowing\n",
    "                \n",
    "                g.classify_images_window(image_path=img_dir_path, fps_to_save=fps_to_save, window_size=window_size)\n",
    "                \n",
    "                # generate relationship graph\n",
    "                graph_dir_path = img_dir_path + \"/img/JSON\"\n",
    "                \n",
    "                g.generate_temporal_graph_frames(graph_dir_path, img_dir_path + \"/img\")\n",
    "                \n",
    "                # save textual output in the out directory\n",
    "                g.tg.to_text(os.path.join(output_dir, text), fps_to_save=fps_to_save, window_size=window_size)\n",
    "      \n",
    "                if os.path.isfile(os.path.join(output_dir,text)):\n",
    "                    with open(os.path.join(output_dir,text)) as f:\n",
    "                        prompt_content = \"\".join(map(str, f.readlines()))\n",
    "                        return str(prompt_content)\n",
    "                else:\n",
    "                    continue"
   ],
   "metadata": {
    "collapsed": false,
    "ExecuteTime": {
     "end_time": "2024-11-10T22:30:38.389283Z",
     "start_time": "2024-11-10T22:30:38.386123Z"
    }
   }
  },
  {
   "cell_type": "code",
   "execution_count": 3,
   "metadata": {
    "colab": {
     "base_uri": "https://localhost:8080/"
    },
    "id": "4mnI8yt9RYCR",
    "outputId": "ae4fc3af-fcc6-436a-b3c1-539df9effabc",
    "ExecuteTime": {
     "end_time": "2024-11-10T22:37:09.576808Z",
     "start_time": "2024-11-10T22:30:41.064089Z"
    }
   },
   "outputs": [
    {
     "name": "stdout",
     "output_type": "stream",
     "text": [
      "eval/quant/car_out.mov\n",
      "30\n",
      "2\n",
      "36.068333333333335\n",
      "73\n"
     ]
    },
    {
     "name": "stderr",
     "output_type": "stream",
     "text": [
      "100%|██████████| 6.25M/6.25M [00:00<00:00, 33.5MB/s]\n",
      "100%|██████████| 146/146 [06:03<00:00,  2.49s/it]\n"
     ]
    },
    {
     "name": "stdout",
     "output_type": "stream",
     "text": [
      "copying images and cleaning up temporary files:\n"
     ]
    },
    {
     "name": "stderr",
     "output_type": "stream",
     "text": [
      "100%|██████████| 146/146 [00:00<00:00, 4290.34it/s]\n"
     ]
    },
    {
     "name": "stdout",
     "output_type": "stream",
     "text": [
      "eval/quant/car_out-opencv/frame0-00-00.03.jpg eval/quant/car_out-opencv/img/frame0-00-00.03.jpg\n",
      "eval/quant/car_out-opencv/frame0-00-00.53.jpg eval/quant/car_out-opencv/img/frame0-00-00.53.jpg\n",
      "eval/quant/car_out-opencv/frame0-00-01.03.jpg eval/quant/car_out-opencv/img/frame0-00-01.03.jpg\n",
      "eval/quant/car_out-opencv/frame0-00-01.53.jpg eval/quant/car_out-opencv/img/frame0-00-01.53.jpg\n",
      "eval/quant/car_out-opencv/frame0-00-02.03.jpg eval/quant/car_out-opencv/img/frame0-00-02.03.jpg\n",
      "eval/quant/car_out-opencv/frame0-00-02.53.jpg eval/quant/car_out-opencv/img/frame0-00-02.53.jpg\n",
      "eval/quant/car_out-opencv/frame0-00-03.03.jpg eval/quant/car_out-opencv/img/frame0-00-03.03.jpg\n",
      "eval/quant/car_out-opencv/frame0-00-03.53.jpg eval/quant/car_out-opencv/img/frame0-00-03.53.jpg\n",
      "eval/quant/car_out-opencv/frame0-00-04.03.jpg eval/quant/car_out-opencv/img/frame0-00-04.03.jpg\n",
      "eval/quant/car_out-opencv/frame0-00-04.53.jpg eval/quant/car_out-opencv/img/frame0-00-04.53.jpg\n",
      "eval/quant/car_out-opencv/frame0-00-05.03.jpg eval/quant/car_out-opencv/img/frame0-00-05.03.jpg\n",
      "eval/quant/car_out-opencv/frame0-00-05.53.jpg eval/quant/car_out-opencv/img/frame0-00-05.53.jpg\n",
      "eval/quant/car_out-opencv/frame0-00-06.03.jpg eval/quant/car_out-opencv/img/frame0-00-06.03.jpg\n",
      "eval/quant/car_out-opencv/frame0-00-06.53.jpg eval/quant/car_out-opencv/img/frame0-00-06.53.jpg\n",
      "eval/quant/car_out-opencv/frame0-00-07.03.jpg eval/quant/car_out-opencv/img/frame0-00-07.03.jpg\n",
      "eval/quant/car_out-opencv/frame0-00-07.53.jpg eval/quant/car_out-opencv/img/frame0-00-07.53.jpg\n",
      "eval/quant/car_out-opencv/frame0-00-08.03.jpg eval/quant/car_out-opencv/img/frame0-00-08.03.jpg\n",
      "eval/quant/car_out-opencv/frame0-00-08.53.jpg eval/quant/car_out-opencv/img/frame0-00-08.53.jpg\n",
      "eval/quant/car_out-opencv/frame0-00-09.03.jpg eval/quant/car_out-opencv/img/frame0-00-09.03.jpg\n",
      "eval/quant/car_out-opencv/frame0-00-09.53.jpg eval/quant/car_out-opencv/img/frame0-00-09.53.jpg\n",
      "eval/quant/car_out-opencv/frame0-00-10.03.jpg eval/quant/car_out-opencv/img/frame0-00-10.03.jpg\n",
      "eval/quant/car_out-opencv/frame0-00-10.53.jpg eval/quant/car_out-opencv/img/frame0-00-10.53.jpg\n",
      "eval/quant/car_out-opencv/frame0-00-11.03.jpg eval/quant/car_out-opencv/img/frame0-00-11.03.jpg\n",
      "eval/quant/car_out-opencv/frame0-00-11.53.jpg eval/quant/car_out-opencv/img/frame0-00-11.53.jpg\n",
      "eval/quant/car_out-opencv/frame0-00-12.03.jpg eval/quant/car_out-opencv/img/frame0-00-12.03.jpg\n",
      "eval/quant/car_out-opencv/frame0-00-12.53.jpg eval/quant/car_out-opencv/img/frame0-00-12.53.jpg\n",
      "eval/quant/car_out-opencv/frame0-00-13.03.jpg eval/quant/car_out-opencv/img/frame0-00-13.03.jpg\n",
      "eval/quant/car_out-opencv/frame0-00-13.53.jpg eval/quant/car_out-opencv/img/frame0-00-13.53.jpg\n",
      "eval/quant/car_out-opencv/frame0-00-14.03.jpg eval/quant/car_out-opencv/img/frame0-00-14.03.jpg\n",
      "eval/quant/car_out-opencv/frame0-00-14.53.jpg eval/quant/car_out-opencv/img/frame0-00-14.53.jpg\n",
      "eval/quant/car_out-opencv/frame0-00-15.03.jpg eval/quant/car_out-opencv/img/frame0-00-15.03.jpg\n",
      "eval/quant/car_out-opencv/frame0-00-15.53.jpg eval/quant/car_out-opencv/img/frame0-00-15.53.jpg\n",
      "eval/quant/car_out-opencv/frame0-00-16.03.jpg eval/quant/car_out-opencv/img/frame0-00-16.03.jpg\n",
      "eval/quant/car_out-opencv/frame0-00-16.53.jpg eval/quant/car_out-opencv/img/frame0-00-16.53.jpg\n",
      "eval/quant/car_out-opencv/frame0-00-17.03.jpg eval/quant/car_out-opencv/img/frame0-00-17.03.jpg\n",
      "eval/quant/car_out-opencv/frame0-00-17.53.jpg eval/quant/car_out-opencv/img/frame0-00-17.53.jpg\n",
      "eval/quant/car_out-opencv/frame0-00-18.03.jpg eval/quant/car_out-opencv/img/frame0-00-18.03.jpg\n",
      "eval/quant/car_out-opencv/frame0-00-18.53.jpg eval/quant/car_out-opencv/img/frame0-00-18.53.jpg\n",
      "eval/quant/car_out-opencv/frame0-00-19.03.jpg eval/quant/car_out-opencv/img/frame0-00-19.03.jpg\n",
      "eval/quant/car_out-opencv/frame0-00-19.53.jpg eval/quant/car_out-opencv/img/frame0-00-19.53.jpg\n",
      "eval/quant/car_out-opencv/frame0-00-20.03.jpg eval/quant/car_out-opencv/img/frame0-00-20.03.jpg\n",
      "eval/quant/car_out-opencv/frame0-00-20.53.jpg eval/quant/car_out-opencv/img/frame0-00-20.53.jpg\n",
      "eval/quant/car_out-opencv/frame0-00-21.03.jpg eval/quant/car_out-opencv/img/frame0-00-21.03.jpg\n",
      "eval/quant/car_out-opencv/frame0-00-21.53.jpg eval/quant/car_out-opencv/img/frame0-00-21.53.jpg\n",
      "eval/quant/car_out-opencv/frame0-00-22.03.jpg eval/quant/car_out-opencv/img/frame0-00-22.03.jpg\n",
      "eval/quant/car_out-opencv/frame0-00-22.53.jpg eval/quant/car_out-opencv/img/frame0-00-22.53.jpg\n",
      "eval/quant/car_out-opencv/frame0-00-23.03.jpg eval/quant/car_out-opencv/img/frame0-00-23.03.jpg\n",
      "eval/quant/car_out-opencv/frame0-00-23.53.jpg eval/quant/car_out-opencv/img/frame0-00-23.53.jpg\n",
      "eval/quant/car_out-opencv/frame0-00-24.03.jpg eval/quant/car_out-opencv/img/frame0-00-24.03.jpg\n",
      "eval/quant/car_out-opencv/frame0-00-24.53.jpg eval/quant/car_out-opencv/img/frame0-00-24.53.jpg\n",
      "eval/quant/car_out-opencv/frame0-00-25.03.jpg eval/quant/car_out-opencv/img/frame0-00-25.03.jpg\n",
      "eval/quant/car_out-opencv/frame0-00-25.53.jpg eval/quant/car_out-opencv/img/frame0-00-25.53.jpg\n",
      "eval/quant/car_out-opencv/frame0-00-26.03.jpg eval/quant/car_out-opencv/img/frame0-00-26.03.jpg\n",
      "eval/quant/car_out-opencv/frame0-00-26.53.jpg eval/quant/car_out-opencv/img/frame0-00-26.53.jpg\n",
      "eval/quant/car_out-opencv/frame0-00-27.03.jpg eval/quant/car_out-opencv/img/frame0-00-27.03.jpg\n",
      "eval/quant/car_out-opencv/frame0-00-27.53.jpg eval/quant/car_out-opencv/img/frame0-00-27.53.jpg\n",
      "eval/quant/car_out-opencv/frame0-00-28.03.jpg eval/quant/car_out-opencv/img/frame0-00-28.03.jpg\n",
      "eval/quant/car_out-opencv/frame0-00-28.53.jpg eval/quant/car_out-opencv/img/frame0-00-28.53.jpg\n",
      "eval/quant/car_out-opencv/frame0-00-29.03.jpg eval/quant/car_out-opencv/img/frame0-00-29.03.jpg\n",
      "eval/quant/car_out-opencv/frame0-00-29.53.jpg eval/quant/car_out-opencv/img/frame0-00-29.53.jpg\n",
      "eval/quant/car_out-opencv/frame0-00-30.03.jpg eval/quant/car_out-opencv/img/frame0-00-30.03.jpg\n",
      "eval/quant/car_out-opencv/frame0-00-30.53.jpg eval/quant/car_out-opencv/img/frame0-00-30.53.jpg\n",
      "eval/quant/car_out-opencv/frame0-00-31.03.jpg eval/quant/car_out-opencv/img/frame0-00-31.03.jpg\n",
      "eval/quant/car_out-opencv/frame0-00-31.53.jpg eval/quant/car_out-opencv/img/frame0-00-31.53.jpg\n",
      "eval/quant/car_out-opencv/frame0-00-32.03.jpg eval/quant/car_out-opencv/img/frame0-00-32.03.jpg\n",
      "eval/quant/car_out-opencv/frame0-00-32.53.jpg eval/quant/car_out-opencv/img/frame0-00-32.53.jpg\n",
      "eval/quant/car_out-opencv/frame0-00-33.03.jpg eval/quant/car_out-opencv/img/frame0-00-33.03.jpg\n",
      "eval/quant/car_out-opencv/frame0-00-33.53.jpg eval/quant/car_out-opencv/img/frame0-00-33.53.jpg\n",
      "eval/quant/car_out-opencv/frame0-00-34.03.jpg eval/quant/car_out-opencv/img/frame0-00-34.03.jpg\n",
      "eval/quant/car_out-opencv/frame0-00-34.53.jpg eval/quant/car_out-opencv/img/frame0-00-34.53.jpg\n",
      "eval/quant/car_out-opencv/frame0-00-35.03.jpg eval/quant/car_out-opencv/img/frame0-00-35.03.jpg\n",
      "eval/quant/car_out-opencv/frame0-00-35.53.jpg eval/quant/car_out-opencv/img/frame0-00-35.53.jpg\n",
      "eval/quant/car_out-opencv/frame0-00-36.03.jpg eval/quant/car_out-opencv/img/frame0-00-36.03.jpg\n",
      "Temporalgraph population:0.0003409385681152344\n",
      "Temporalgraph population:0.0001480579376220703\n",
      "Temporalgraph population:9.703636169433594e-05\n",
      "Temporalgraph population:9.703636169433594e-05\n",
      "Temporalgraph population:9.703636169433594e-05\n",
      "Temporalgraph population:9.489059448242188e-05\n",
      "Temporalgraph population:0.00010323524475097656\n",
      "Temporalgraph population:0.000102996826171875\n",
      "Temporalgraph population:0.0001251697540283203\n",
      "Temporalgraph population:9.894371032714844e-05\n",
      "Temporalgraph population:0.00022602081298828125\n",
      "Temporalgraph population:0.00011181831359863281\n",
      "Temporalgraph population:0.00013709068298339844\n",
      "Temporalgraph population:0.0001418590545654297\n",
      "Temporalgraph population:0.00011420249938964844\n",
      "Temporalgraph population:0.00015687942504882812\n",
      "Temporalgraph population:0.00010824203491210938\n",
      "Temporalgraph population:0.00011324882507324219\n",
      "Temporalgraph population:0.0001418590545654297\n",
      "Temporalgraph population:0.00016999244689941406\n",
      "Temporalgraph population:0.0001087188720703125\n",
      "Temporalgraph population:0.0002009868621826172\n",
      "Temporalgraph population:0.00012087821960449219\n",
      "Temporalgraph population:0.00011587142944335938\n",
      "Temporalgraph population:0.00011491775512695312\n",
      "Temporalgraph population:0.0001347064971923828\n",
      "Temporalgraph population:0.0001163482666015625\n",
      "Temporalgraph population:0.00011229515075683594\n",
      "Temporalgraph population:0.00011205673217773438\n",
      "Temporalgraph population:0.00011086463928222656\n",
      "Temporalgraph population:8.20159912109375e-05\n",
      "Temporalgraph population:8.416175842285156e-05\n",
      "Temporalgraph population:8.893013000488281e-05\n",
      "Temporalgraph population:8.296966552734375e-05\n",
      "Temporalgraph population:0.00019097328186035156\n",
      "Temporalgraph population:0.00011205673217773438\n",
      "Temporalgraph population:0.00011086463928222656\n",
      "Temporalgraph population:0.0009877681732177734\n",
      "Temporalgraph population:0.00011491775512695312\n",
      "Temporalgraph population:0.00015091896057128906\n",
      "Temporalgraph population:0.000125885009765625\n",
      "Temporalgraph population:0.00015282630920410156\n",
      "Temporalgraph population:0.0001361370086669922\n",
      "Temporalgraph population:0.00012803077697753906\n",
      "Temporalgraph population:0.00012302398681640625\n",
      "Temporalgraph population:7.987022399902344e-05\n",
      "Temporalgraph population:0.00011682510375976562\n",
      "Temporalgraph population:0.00012087821960449219\n",
      "Temporalgraph population:0.00018405914306640625\n",
      "Temporalgraph population:0.00012683868408203125\n",
      "Temporalgraph population:0.00011539459228515625\n",
      "Temporalgraph population:0.00011992454528808594\n",
      "Temporalgraph population:0.0001220703125\n",
      "Temporalgraph population:0.0003070831298828125\n",
      "Temporalgraph population:0.00012636184692382812\n",
      "Temporalgraph population:0.0002598762512207031\n",
      "Temporalgraph population:0.0002162456512451172\n",
      "Temporalgraph population:0.0001361370086669922\n",
      "Temporalgraph population:0.00017786026000976562\n",
      "Temporalgraph population:0.00013303756713867188\n",
      "Temporalgraph population:0.0001380443572998047\n",
      "Temporalgraph population:0.0001347064971923828\n",
      "Temporalgraph population:0.00013113021850585938\n",
      "Temporalgraph population:0.00013399124145507812\n",
      "Temporalgraph population:0.00013637542724609375\n",
      "Temporalgraph population:8.511543273925781e-05\n",
      "Temporalgraph population:0.00013589859008789062\n",
      "Temporalgraph population:0.00013208389282226562\n",
      "Temporalgraph population:0.00013589859008789062\n",
      "Temporalgraph population:0.00015282630920410156\n",
      "Temporalgraph population:0.00013208389282226562\n",
      "Temporalgraph population:0.00013184547424316406\n",
      "Temporalgraph population:0.00013017654418945312\n",
      "CUIDs from Demo yolo\n"
     ]
    }
   ],
   "source": [
    "\n",
    "if os.path.isdir(directory_path):\n",
    "  prompt = run_yolo()\n",
    "  print(\"CUIDs from Demo yolo\".format(prompt))\n"
   ]
  },
  {
   "cell_type": "code",
   "execution_count": 4,
   "metadata": {
    "executionInfo": {
     "elapsed": 208,
     "status": "ok",
     "timestamp": 1696326755391,
     "user": {
      "displayName": "Sanjiv Jha",
      "userId": "17144923705976415935"
     },
     "user_tz": -120
    },
    "id": "-I35WyH0az6w",
    "ExecuteTime": {
     "end_time": "2024-11-10T21:24:10.166477Z",
     "start_time": "2024-11-10T21:24:10.158136Z"
    }
   },
   "outputs": [],
   "source": [
    "import shutil\n",
    "\n",
    "shutil.rmtree('temp')\n"
   ]
  },
  {
   "cell_type": "code",
   "execution_count": null,
   "outputs": [],
   "source": [],
   "metadata": {
    "collapsed": false,
    "ExecuteTime": {
     "start_time": "2024-09-27T04:48:13.805600Z"
    }
   }
  }
 ],
 "metadata": {
  "accelerator": "GPU",
  "colab": {
   "machine_shape": "hm",
   "provenance": []
  },
  "kernelspec": {
   "name": "python3",
   "language": "python",
   "display_name": "Python 3"
  },
  "language_info": {
   "codemirror_mode": {
    "name": "ipython",
    "version": 3
   },
   "file_extension": ".py",
   "mimetype": "text/x-python",
   "name": "python",
   "nbconvert_exporter": "python",
   "pygments_lexer": "ipython3",
   "version": "3.8.5"
  }
 },
 "nbformat": 4,
 "nbformat_minor": 0
}
